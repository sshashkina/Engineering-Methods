{
 "cells": [
  {
   "cell_type": "markdown",
   "id": "2fa8b039",
   "metadata": {},
   "source": [
    "## Arithmetic Operators"
   ]
  },
  {
   "cell_type": "code",
   "execution_count": 1,
   "id": "be267969",
   "metadata": {},
   "outputs": [
    {
     "name": "stdout",
     "output_type": "stream",
     "text": [
      "Addition: 13\n",
      "Subtraction: 7\n",
      "Multiplication: 30\n",
      "Division: 3.3333333333333335\n",
      "Floor Division: 3\n",
      "Modulus: 1\n",
      "Exponentiation: 1000\n"
     ]
    }
   ],
   "source": [
    "# Arithmetic Operators\n",
    "# Python supports basic arithmetic operations:\n",
    "# Addition (+), Subtraction (-), Multiplication (*), Division (/), Modulus (%), Exponentiation (**)\n",
    "\n",
    "a = 10\n",
    "b = 3\n",
    "\n",
    "print(\"Addition:\", a + b)\n",
    "print(\"Subtraction:\",a-b) # Your code from here and on \n",
    "print(\"Multiplication:\",a*b )\n",
    "print(\"Division:\",a/b )\n",
    "print(\"Floor Division:\",a//b )\n",
    "print(\"Modulus:\", a%b)\n",
    "print(\"Exponentiation:\", a**b)\n"
   ]
  },
  {
   "cell_type": "markdown",
   "id": "b1f46671",
   "metadata": {},
   "source": [
    "## Expressions"
   ]
  },
  {
   "cell_type": "code",
   "execution_count": 2,
   "id": "ebdd5307",
   "metadata": {},
   "outputs": [
    {
     "name": "stdout",
     "output_type": "stream",
     "text": [
      "Expression result: a = 49  b = 9\n"
     ]
    }
   ],
   "source": [
    "# Expressions\n",
    "# An expression is a combination of values, variables, and operators that Python can evaluate.\n",
    "\n",
    "x = 5\n",
    "y = 2\n",
    "a = ((x+y)**2) # Your code to change a and b to different expressions\n",
    "b = ((x-y)*3)\n",
    "\n",
    "print(\"Expression result: a =\", a, \" b =\", b)"
   ]
  },
  {
   "cell_type": "markdown",
   "id": "da622ebd",
   "metadata": {},
   "source": [
    "## Arithmetic Functions"
   ]
  },
  {
   "cell_type": "code",
   "execution_count": 3,
   "id": "8f87d071",
   "metadata": {},
   "outputs": [
    {
     "name": "stdout",
     "output_type": "stream",
     "text": [
      "Absolute value: 7.89627\n",
      "Rounded value: -7.896\n",
      "Absolute value: 146.89356\n",
      "Rounded value: 146.89\n"
     ]
    }
   ],
   "source": [
    "# Arithmetic Functions\n",
    "# Python provides built-in functions like round() and abs()\n",
    "\n",
    "value = -7.89627\n",
    "\n",
    "print(\"Absolute value:\", abs(value))\n",
    "print(\"Rounded value:\", round(value, 3))\n",
    "\n",
    "# Your code here\n",
    "value_original = 146.89356\n",
    "print(\"Absolute value:\",abs(value_original))\n",
    "print(\"Rounded value:\",round(value_original,2))"
   ]
  },
  {
   "cell_type": "markdown",
   "id": "ee503e8f",
   "metadata": {},
   "source": [
    "## Strings"
   ]
  },
  {
   "cell_type": "code",
   "execution_count": 4,
   "id": "bdcb4d75",
   "metadata": {},
   "outputs": [
    {
     "name": "stdout",
     "output_type": "stream",
     "text": [
      "Hello, World!\n",
      "Hello, World!\n",
      "Length of string 1: 13\n",
      "Uppercase: HELLO, WORLD!\n",
      "Do I Understand How To Do This?\n",
      "Do I Understand How To Do This?\n",
      "Length of string 3: 31\n",
      "Uppercase: DO I UNDERSTAND HOW TO DO THIS?\n"
     ]
    }
   ],
   "source": [
    "# Strings\n",
    "# Strings are sequences of characters enclosed in quotes.\n",
    "\n",
    "greeting1 = \"Hello, World!\"\n",
    "greeting2 = 'Hello' + ', ' + \"World!\"\n",
    "print(greeting1)\n",
    "print(greeting2)\n",
    "print(\"Length of string 1:\", len(greeting1))\n",
    "print(\"Uppercase:\", greeting2.upper())\n",
    "\n",
    "# Your code here\n",
    "#Svitlana's Version of the code\n",
    "string1 = \"Do I Understand How To Do This?\"\n",
    "string2 = 'Do'+' '+'I'+' '+'Understand'+' '+'How'+' '+'To'+' '+'Do'+' '+'This?'\n",
    "print(string1)\n",
    "print(string2)\n",
    "print(\"Length of string 3:\",len(string1))\n",
    "print(\"Uppercase:\", string1.upper())\n"
   ]
  },
  {
   "cell_type": "markdown",
   "id": "aec13de8",
   "metadata": {},
   "source": [
    "## Values and Variables"
   ]
  },
  {
   "cell_type": "code",
   "execution_count": 5,
   "id": "74303a9a",
   "metadata": {},
   "outputs": [
    {
     "name": "stdout",
     "output_type": "stream",
     "text": [
      "Type of num: <class 'int'>\n",
      "Type of text: <class 'str'>\n",
      "Convert string to int: 123\n",
      "Convert string to float: 123.456\n",
      "Convert float to int: 123\n",
      "<class 'int'>\n",
      "<class 'str'>\n",
      "<class 'int'>\n"
     ]
    }
   ],
   "source": [
    "# Values and Variables\n",
    "# Variables store values. Use type() to check the type of a value.\n",
    "\n",
    "num = 42\n",
    "text = \"Python\"\n",
    "int_num = int(\"123\")\n",
    "\n",
    "print(\"Type of num:\", type(num))\n",
    "print(\"Type of text:\", type(text))\n",
    "print(\"Convert string to int:\", int(\"123\"))\n",
    "print(\"Convert string to float:\", float(\"123.456\"))\n",
    "print(\"Convert float to int:\", int(123.456))\n",
    "\n",
    "# Svitlana's code\n",
    "x = 72\n",
    "Writing = \"practice\"\n",
    "numero=int(\"344\")\n",
    "print(type(x))\n",
    "print(type(Writing))\n",
    "print(type(numero))"
   ]
  },
  {
   "cell_type": "markdown",
   "id": "412914d1",
   "metadata": {},
   "source": [
    "## Variable Assignments and Statements"
   ]
  },
  {
   "cell_type": "code",
   "execution_count": 6,
   "id": "ebb5b28a",
   "metadata": {},
   "outputs": [
    {
     "name": "stdout",
     "output_type": "stream",
     "text": [
      "Value of y: 15\n",
      "z\n",
      "k\n"
     ]
    },
    {
     "data": {
      "text/plain": [
       "15.0"
      ]
     },
     "execution_count": 6,
     "metadata": {},
     "output_type": "execute_result"
    }
   ],
   "source": [
    "# Variable Assignments and Statements\n",
    "# Use = to assign values to variables.\n",
    "\n",
    "x = 10\n",
    "y = x + 5\n",
    "print(\"Value of y:\", y)\n",
    "\n",
    "#Svitlana's mini code\n",
    "z = 29\n",
    "k = (1 + z)/2\n",
    "print('z')\n",
    "print('k')\n",
    "abs(k)\n",
    "\n"
   ]
  },
  {
   "cell_type": "markdown",
   "id": "3db46405",
   "metadata": {},
   "source": [
    "## Variable Naming Rules and Keywords"
   ]
  },
  {
   "cell_type": "code",
   "execution_count": 7,
   "id": "b07ff4b0",
   "metadata": {},
   "outputs": [
    {
     "name": "stdout",
     "output_type": "stream",
     "text": [
      "Python keywords: ['False', 'None', 'True', 'and', 'as', 'assert', 'async', 'await', 'break', 'class', 'continue', 'def', 'del', 'elif', 'else', 'except', 'finally', 'for', 'from', 'global', 'if', 'import', 'in', 'is', 'lambda', 'nonlocal', 'not', 'or', 'pass', 'raise', 'return', 'try', 'while', 'with', 'yield']\n"
     ]
    }
   ],
   "source": [
    "# Variable Naming Rules and Keywords\n",
    "# Variable names must start with a letter or underscore and cannot be Python keywords.\n",
    "\n",
    "# Valid variable names\n",
    "my_var = 1\n",
    "_var2 = 2\n",
    "\n",
    "# Invalid: 2var = 3 (starts with a number)\n",
    "# Invalid: if = 4 (if is a keyword)\n",
    "\n",
    "import keyword\n",
    "print(\"Python keywords:\", keyword.kwlist) # Print out a list of Python keywords\n",
    "\n"
   ]
  },
  {
   "cell_type": "markdown",
   "id": "04067491",
   "metadata": {},
   "source": [
    "## Math Module"
   ]
  },
  {
   "cell_type": "code",
   "execution_count": 8,
   "id": "db9aac63",
   "metadata": {},
   "outputs": [
    {
     "name": "stdout",
     "output_type": "stream",
     "text": [
      "Square root of 16: 4.0\n",
      "Value of pi: 3.141592653589793\n",
      "Cosine of 0: 1.0\n",
      "12.0\n",
      "1.5707963267948966\n",
      "0.8414709848078965\n"
     ]
    }
   ],
   "source": [
    "# Math Module\n",
    "# Import the math module to access mathematical functions\n",
    "\n",
    "import math\n",
    "\n",
    "print(\"Square root of 16:\", math.sqrt(16))\n",
    "print(\"Value of pi:\", math.pi)\n",
    "print(\"Cosine of 0:\", math.cos(0))\n",
    "\n",
    "# Your code here to use math functions. Do what you like!\n",
    "#Svitlana's code\n",
    "import math\n",
    "print(math.sqrt(144))\n",
    "print((math.pi)/2)\n",
    "print(math.sin(1))"
   ]
  },
  {
   "cell_type": "markdown",
   "id": "4a980680",
   "metadata": {},
   "source": [
    "## TypeErrors"
   ]
  },
  {
   "cell_type": "code",
   "execution_count": 9,
   "id": "951b1c0b",
   "metadata": {},
   "outputs": [
    {
     "name": "stdout",
     "output_type": "stream",
     "text": [
      "TypeError: can only concatenate str (not \"int\") to str\n",
      "Hello 5\n"
     ]
    }
   ],
   "source": [
    "# TypeErrors\n",
    "# TypeErrors occur when operations are applied to incompatible types\n",
    "\n",
    "# Example:\n",
    "try:\n",
    "    result = \"hello\" + 5\n",
    "except TypeError as e:\n",
    "    print(\"TypeError:\", e)\n",
    "\n",
    "# Fix the error\n",
    "print(\"Hello\"+\" \"+\"5\")"
   ]
  },
  {
   "cell_type": "markdown",
   "id": "b4b3f96c",
   "metadata": {},
   "source": [
    "## Comments"
   ]
  },
  {
   "cell_type": "code",
   "execution_count": 10,
   "id": "74931309",
   "metadata": {},
   "outputs": [
    {
     "name": "stdout",
     "output_type": "stream",
     "text": [
      "5\n"
     ]
    }
   ],
   "source": [
    "# Comments\n",
    "# Use comments to explain code. Comments start with #\n",
    "\n",
    "# This is a comment\n",
    "x = 5  # Assign 5 to x\n",
    "print(x) # Add a comment here #print out the value of x\n",
    "#Understanding the power of commentary\n"
   ]
  },
  {
   "cell_type": "markdown",
   "id": "c33bce8d",
   "metadata": {},
   "source": [
    "# Exercises\n",
    "# Try these:\n",
    "# 1. Create a variable and assign it a string.\n",
    "# 2. Use math.sqrt() to find the square root of a number.\n",
    "# 3. Write a comment explaining what your code does.\n"
   ]
  },
  {
   "cell_type": "code",
   "execution_count": 11,
   "id": "5ab5b497",
   "metadata": {},
   "outputs": [
    {
     "name": "stdout",
     "output_type": "stream",
     "text": [
      "Which name, Clementines or mandarins, that is the question\n"
     ]
    }
   ],
   "source": [
    "# Code here - exercise - 1\n",
    "x=\"Clementines or mandarins, that is the question\"\n",
    "print(\"Which name,\",x)"
   ]
  },
  {
   "cell_type": "code",
   "execution_count": 12,
   "id": "41c09630",
   "metadata": {},
   "outputs": [
    {
     "data": {
      "text/plain": [
       "4.0"
      ]
     },
     "execution_count": 12,
     "metadata": {},
     "output_type": "execute_result"
    }
   ],
   "source": [
    "# Code here - exersize - 2\n",
    "import math\n",
    "math.sqrt(16)"
   ]
  },
  {
   "cell_type": "code",
   "execution_count": 13,
   "id": "c8e2ed98",
   "metadata": {},
   "outputs": [],
   "source": [
    "# Code here - exersize - 3\n",
    "# The first code first defines a string in the context of a variable. Then it prints out the string and the x.\n",
    "# The second code imports math module then use math . sqrt to find the square root of 16."
   ]
  },
  {
   "cell_type": "markdown",
   "id": "9f686303",
   "metadata": {},
   "source": [
    "## Functions"
   ]
  },
  {
   "cell_type": "code",
   "execution_count": 14,
   "id": "1dc8ec37",
   "metadata": {},
   "outputs": [
    {
     "name": "stdout",
     "output_type": "stream",
     "text": [
      "Hello from a function!\n",
      "Multiplying 2 and 10 gives: 20\n"
     ]
    }
   ],
   "source": [
    "# Functions\n",
    "# Functions are reusable blocks of code defined using def\n",
    "\n",
    "def greet():\n",
    "    print(\"Hello from a function!\")\n",
    "\n",
    "greet()\n",
    "\n",
    "# Your code here to define and call more functions\n",
    "def multiply(a,b):\n",
    "    return a*b\n",
    "print(\"Multiplying 2 and 10 gives:\",multiply(2,10))"
   ]
  },
  {
   "cell_type": "markdown",
   "id": "cbf6f331",
   "metadata": {},
   "source": [
    "## Parameters and Arguments"
   ]
  },
  {
   "cell_type": "code",
   "execution_count": 15,
   "id": "75930ad5",
   "metadata": {},
   "outputs": [
    {
     "name": "stdout",
     "output_type": "stream",
     "text": [
      "Hello Alice\n",
      "This clementine is so juicy and sweet!\n"
     ]
    }
   ],
   "source": [
    "# Parameters and Arguments\n",
    "# Functions can accept parameters\n",
    "\n",
    "def greet(name):\n",
    "    print(\"Hello\", name)\n",
    "\n",
    "greet(\"Alice\")\n",
    "\n",
    "# Your code here to define and call functions with parameters\n",
    "def hype_up(Fruit):\n",
    "    print(\"This\",Fruit,\"is so juicy and sweet!\")\n",
    "hype_up(\"clementine\")\n"
   ]
  },
  {
   "cell_type": "markdown",
   "id": "e67d83bb",
   "metadata": {},
   "source": [
    "## Calling Functions and Local Variables"
   ]
  },
  {
   "cell_type": "code",
   "execution_count": 16,
   "id": "544b787d",
   "metadata": {},
   "outputs": [
    {
     "name": "stdout",
     "output_type": "stream",
     "text": [
      "Sum: 7\n",
      "Difference: 6\n"
     ]
    }
   ],
   "source": [
    "# Calling Functions and Local Variables\n",
    "# Variables inside functions are local to that function\n",
    "\n",
    "def add(a, b):\n",
    "    result = a + b\n",
    "    return result\n",
    "\n",
    "print(\"Sum:\", add(3, 4))\n",
    "\n",
    "# print(result)  # This will raise an error because result is local to add()\n",
    "# Your code here to define and call more functions with local variables\n",
    "def subtract(a,b):\n",
    "    difference = a - b\n",
    "    return difference\n",
    "print(\"Difference:\",subtract(10,4))"
   ]
  },
  {
   "cell_type": "markdown",
   "id": "69c11b94",
   "metadata": {},
   "source": [
    "## Loops"
   ]
  },
  {
   "cell_type": "code",
   "execution_count": 17,
   "id": "a62fffb4",
   "metadata": {},
   "outputs": [
    {
     "name": "stdout",
     "output_type": "stream",
     "text": [
      "Iteration 0\n",
      "Iteration 1\n",
      "Iteration 2\n",
      "Iteration 3\n",
      "Iteration 4\n",
      "axolotl 0\n",
      "axolotl 1\n",
      "axolotl 2\n",
      "axolotl 3\n"
     ]
    }
   ],
   "source": [
    "# Loops\n",
    "# Use for loops to repeat actions\n",
    "\n",
    "for i in range(5):\n",
    "    print(\"Iteration\", i)\n",
    "\n",
    "# Your code here to define and use more loops\n",
    "for x in range(4):\n",
    "    print(\"axolotl\",x)"
   ]
  },
  {
   "cell_type": "markdown",
   "id": "ff0a87ad",
   "metadata": {},
   "source": [
    "\n",
    "# Loop Through a List\n",
    "Loop through a list of forces and calculate stress using σ = F / A. Flag any stress that exceeds the yield limit."
   ]
  },
  {
   "cell_type": "code",
   "execution_count": 18,
   "id": "afada623",
   "metadata": {},
   "outputs": [
    {
     "name": "stdout",
     "output_type": "stream",
     "text": [
      "Force: 500 N → Stress: 100000.00 Pa → OK\n",
      "Force: 1000 N → Stress: 200000.00 Pa → OK\n",
      "Force: 1500 N → Stress: 300000.00 Pa → OK\n",
      "Force: 2000 N → Stress: 400000.00 Pa → Exceeds yield limit!\n",
      "Force: 500 N → Stress: 10000.00 Pa → OK\n",
      "Force: 600 N → Stress: 12000.00 Pa → OK\n",
      "Force: 1000 N → Stress: 20000.00 Pa → OK\n",
      "Force: 1500 N → Stress: 30000.00 Pa → OK\n",
      "Force: 1700 N → Stress: 34000.00 Pa → Exceeds yield limit!\n",
      "Force: 1800 N → Stress: 36000.00 Pa → Exceeds yield limit!\n",
      "Force: 1900 N → Stress: 38000.00 Pa → Exceeds yield limit!\n",
      "Force: 2000 N → Stress: 40000.00 Pa → Exceeds yield limit!\n"
     ]
    }
   ],
   "source": [
    "forces = [500, 1000, 1500, 2000]  # in Newtons\n",
    "area = 0.005  # cross-sectional area in m²\n",
    "yield_limit = 300000  # in Pascals\n",
    "\n",
    "for F in forces:\n",
    "    stress = F / area\n",
    "    status = \"OK\"\n",
    "    if stress > yield_limit:\n",
    "        status = \"Exceeds yield limit!\"\n",
    "    print(f\"Force: {F} N → Stress: {stress:.2f} Pa → {status}\")\n",
    "\n",
    "# Modify the code above to add more forces and change area and yield_limit\n",
    "# I copied the above but added extra changes as asked\n",
    "forces = [500, 600, 1000, 1500, 1700, 1800, 1900, 2000]  # in Newtons\n",
    "area = 0.05  # cross-sectional area in m²\n",
    "yield_limit = 30000  # in Pascals\n",
    "\n",
    "for F in forces:\n",
    "    stress = F / area\n",
    "    status = \"OK\"\n",
    "    if stress > yield_limit:\n",
    "        status = \"Exceeds yield limit!\"\n",
    "    print(f\"Force: {F} N → Stress: {stress:.2f} Pa → {status}\")"
   ]
  },
  {
   "cell_type": "markdown",
   "id": "91804e1e",
   "metadata": {},
   "source": [
    "# Print Text"
   ]
  },
  {
   "cell_type": "code",
   "execution_count": 19,
   "id": "35dd4dc9",
   "metadata": {},
   "outputs": [
    {
     "name": "stdout",
     "output_type": "stream",
     "text": [
      "first five characters of the text are:\n",
      "seven\n"
     ]
    }
   ],
   "source": [
    "text=\"seventy\"\n",
    "print(\"first five characters of the text are:\")\n",
    "print(text[:5]) # NameError: name 'text' is not defined. Need to define 'text' first.\n",
    "\n",
    "# Fix the error"
   ]
  },
  {
   "cell_type": "markdown",
   "id": "be099eeb",
   "metadata": {},
   "source": [
    "# Final Exercises\n",
    "# 1. Write a function that returns the square of a number.\n",
    "# 2. Use a loop to print numbers from 1 to 10.\n",
    "# 3. Use round() and abs() in a function.\n"
   ]
  },
  {
   "cell_type": "code",
   "execution_count": 20,
   "id": "43c4cd1b",
   "metadata": {},
   "outputs": [
    {
     "data": {
      "text/plain": [
       "4"
      ]
     },
     "execution_count": 20,
     "metadata": {},
     "output_type": "execute_result"
    }
   ],
   "source": [
    "# Code here - 1\n",
    "def powers(a,b):\n",
    "    return a**b\n",
    "powers(2,2)"
   ]
  },
  {
   "cell_type": "code",
   "execution_count": 21,
   "id": "06be2c70",
   "metadata": {},
   "outputs": [
    {
     "name": "stdout",
     "output_type": "stream",
     "text": [
      "0\n",
      "1\n",
      "2\n",
      "3\n",
      "4\n",
      "5\n",
      "6\n",
      "7\n",
      "8\n",
      "9\n",
      "10\n"
     ]
    }
   ],
   "source": [
    "# Code here\n",
    "for x in range (11):\n",
    "    print(x)"
   ]
  },
  {
   "cell_type": "code",
   "execution_count": 22,
   "id": "2d31697c",
   "metadata": {},
   "outputs": [
    {
     "data": {
      "text/plain": [
       "3.56859"
      ]
     },
     "execution_count": 22,
     "metadata": {},
     "output_type": "execute_result"
    }
   ],
   "source": [
    "# Code here\n",
    "def rounding(decimals):\n",
    "    return round(decimals)\n",
    "rounding(-3.56859)\n",
    "def absolutism(negatives):\n",
    "    return abs(negatives)\n",
    "absolutism(-3.56859)"
   ]
  }
 ],
 "metadata": {
  "kernelspec": {
   "display_name": "Python 3",
   "language": "python",
   "name": "python3"
  },
  "language_info": {
   "codemirror_mode": {
    "name": "ipython",
    "version": 3
   },
   "file_extension": ".py",
   "mimetype": "text/x-python",
   "name": "python",
   "nbconvert_exporter": "python",
   "pygments_lexer": "ipython3",
   "version": "3.12.1"
  }
 },
 "nbformat": 4,
 "nbformat_minor": 5
}
