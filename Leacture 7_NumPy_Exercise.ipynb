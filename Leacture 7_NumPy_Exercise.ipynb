{
 "cells": [
  {
   "cell_type": "markdown",
   "id": "b3271b0b",
   "metadata": {},
   "source": [
    "## Why NumPy?\n",
    "\n",
    "- Compact, contiguous arrays of numbers in memory.\n",
    "- Vectorized operations dispatch to optimized C/BLAS under the hood.\n",
    "- Expressive APIs for indexing, broadcasting, and linear algebra.\n",
    "- Foundation for scientific Python (Pandas, SciPy, scikit-learn)."
   ]
  },
  {
   "cell_type": "markdown",
   "id": "45f11f31",
   "metadata": {},
   "source": [
    "### 1) Review- Creating arrays: \n",
    "- Build 1D/2D arrays using `array`, `linspace`, `arange`, and helpers (`zeros`, `ones`, `eye`)."
   ]
  },
  {
   "cell_type": "code",
   "execution_count": null,
   "id": "c797d665",
   "metadata": {},
   "outputs": [],
   "source": [
    "# Add comments to all code in this Notebook\n",
    "# You have seen this code before\n",
    "import numpy as np\n",
    "\n",
    "# 1D arrays\n",
    "a = np.array([1, 3, 5, 7], dtype=float)\n",
    "# 2 x 2 array with all integer elements\n",
    "b = np.array([[1, 2, 3],\n",
    "              [4, 5, 6]], dtype= int)\n",
    "x_lin = np.linspace(0.0, 5.0, 11)     # inclusive ends\n",
    "x_rng = np.arange(0.0, 5.0, 0.5)      # half-open [start, end)\n",
    "\n",
    "print('a =\\n', a)\n",
    "print('b =\\n', b)\n",
    "print('lin    =', x_lin)\n",
    "print('arange =', x_rng)\n",
    "\n",
    "# 2D helpers\n",
    "Z = np.zeros((2,3))\n",
    "O = np.ones((3,2))\n",
    "I = np.eye(3)\n",
    "print('zeros:\\n', Z)\n",
    "print('ones:\\n',  O)\n",
    "print('eye:\\n',   I)\n"
   ]
  },
  {
   "cell_type": "markdown",
   "id": "ce3bba2f",
   "metadata": {},
   "source": [
    "### 2) Vectorization \n",
    "- Example: velocity of a falling object"
   ]
  },
  {
   "cell_type": "code",
   "execution_count": null,
   "id": "4e051238",
   "metadata": {},
   "outputs": [],
   "source": [
    "import numpy as np, matplotlib.pyplot as plt\n",
    "\n",
    "def velocity(t):\n",
    "    g = 9.8  # m/s^2\n",
    "    v0 = 0.0\n",
    "    return g * t + v0\n",
    "\n",
    "# Scalar works\n",
    "print('velocity(1.0) =', velocity(1.0))\n",
    "\n",
    "# Vectorized with NumPy\n",
    "t = np.array([0,1,2,3,4], dtype=int) # Vactorize t in an array \n",
    "v = velocity(t)\n",
    "print('t =', t)\n",
    "print('v =', v)\n",
    "\n",
    "plt.figure(figsize=(5.2,3.2))\n",
    "plt.plot(t, v, 'o-', label='v(t) = -9.8 t')\n",
    "# plt.xlim(0, 4)\n",
    "plt.xlabel('t (s)'); plt.ylabel('v (m/s)'); plt.title('Vectorized evaluation')\n",
    "plt.grid(True, alpha=0.3); plt.legend(); plt.tight_layout(); plt.show()\n"
   ]
  },
  {
   "cell_type": "markdown",
   "id": "585111ea",
   "metadata": {},
   "source": [
    "#### Exercise\n",
    "Calculate and plot the distance of a falling object with the same initial velocity above. "
   ]
  },
  {
   "cell_type": "code",
   "execution_count": null,
   "id": "458ff806",
   "metadata": {},
   "outputs": [],
   "source": [
    "# Your code here\n"
   ]
  },
  {
   "cell_type": "markdown",
   "id": "24be002a",
   "metadata": {},
   "source": [
    "### 3) Indexing & slicing (1D and 2D)\n",
    "- Use basic **indexing & slicing** (including 2D) and perform in-place assignments."
   ]
  },
  {
   "cell_type": "code",
   "execution_count": null,
   "id": "9a1c0c7c",
   "metadata": {},
   "outputs": [],
   "source": [
    "import numpy as np\n",
    "\n",
    "A = np.array([[7., 8., 9.],\n",
    "              [4., 5., 6.]])\n",
    "print('A=', A, '\\nshape =', A.shape)\n",
    "\n",
    "# Two equivalent ways to index a single element\n",
    "print('A[1][2] =', A[1][2])\n",
    "print('A[1,2]  =', A[1,2])\n",
    "\n",
    "# Row / column slicing\n",
    "print('Row 0  :', A[0, :])\n",
    "print('Col 1  :', A[:, 1])\n",
    "\n",
    "# In-place assignment\n",
    "A[1, 2] = -A[0, 0]\n",
    "print('After A[1,2] = -A[0,0]:', A)\n"
   ]
  },
  {
   "cell_type": "markdown",
   "id": "eabbdb50",
   "metadata": {},
   "source": [
    "#### Exercise\n",
    "Make a 3 x 5 array using the function of your choice. \n",
    "Print out 1). a particular row, 2). a particular colum, and 3). a particular element"
   ]
  },
  {
   "cell_type": "code",
   "execution_count": null,
   "id": "4954cde0",
   "metadata": {},
   "outputs": [],
   "source": [
    "# Your code here\n"
   ]
  },
  {
   "cell_type": "markdown",
   "id": "a38d046e",
   "metadata": {},
   "source": [
    "### 4) Broadcasting: eliminating loops\n",
    "- Apply **broadcasting** rules to eliminate loops and generate grids. It works by automatically expanding the smaller array across the larger one so that they have compatible shapes.\n",
    "\n",
    "Examples below build a coordinate grid without explicit loops and compute a distance field."
   ]
  },
  {
   "cell_type": "code",
   "execution_count": null,
   "id": "a995e6cf",
   "metadata": {},
   "outputs": [],
   "source": [
    "import numpy as np, matplotlib.pyplot as plt\n",
    "\n",
    "x = np.linspace(-2, 2, num=10, dtype=float)[:, None]   # shape (10,1) column\n",
    "y = np.linspace(-2, 2, 10, dtype= float)[None, :]   # shape (1,10) row\n",
    "print(x)\n",
    "print(y)\n",
    "X = x + 0*y                             # broadcast to (10,10)\n",
    "Y = 0*x + y                             # broadcast to (10,10)\n",
    "R = np.sqrt(X**2 + Y**2)                # element-wise\n",
    "# print(R)\n",
    "plt.figure(figsize=(5,4))\n",
    "plt.contourf(X, Y, R, levels=15, cmap='viridis')\n",
    "plt.colorbar(label='radius')\n",
    "plt.gca().set_aspect('equal', 'box')\n",
    "plt.title('Broadcasted radius grid (no explicit loops)')\n",
    "plt.xlabel('x'); plt.ylabel('y'); plt.tight_layout(); plt.show()\n"
   ]
  },
  {
   "cell_type": "markdown",
   "id": "fc47c4b5",
   "metadata": {},
   "source": [
    "#### Exercise\n",
    "Make up a function similar to the example above and plot it. \n",
    "Try increase the array sizes and see what heppens."
   ]
  },
  {
   "cell_type": "code",
   "execution_count": null,
   "id": "6a15f478",
   "metadata": {},
   "outputs": [],
   "source": [
    "# Your code here. \n"
   ]
  },
  {
   "cell_type": "markdown",
   "id": "5396d757",
   "metadata": {},
   "source": [
    "### 5) Dtypes & precision: float32 vs float64\n",
    "- Choose an appropriate **dtype** and understand precision trade-offs. "
   ]
  },
  {
   "cell_type": "code",
   "execution_count": null,
   "id": "455a8828",
   "metadata": {},
   "outputs": [],
   "source": [
    "import numpy as np\n",
    "\n",
    "# A tiny accumulation example\n",
    "N = 1_000_000_000 # What does this line of code do?\n",
    "x = np.ones(N, dtype=np.float32) / N\n",
    "y = np.ones(N, dtype=np.float64) / N\n",
    "print('sum float32 ≈', x.sum(), ' error=', abs(x.sum()-1.0))\n",
    "print('sum float64 ≈', y.sum(), ' error=', abs(y.sum()-1.0))\n",
    "# Run the code and explain what happens.\n",
    "# Does it take a longer time (compare to other code) to run? Why or why not?"
   ]
  },
  {
   "cell_type": "markdown",
   "id": "d4b8ea0c",
   "metadata": {},
   "source": [
    "#### Exercise\n",
    "Make two arrays using np.array. They have exactly the same elements but different precisions- one of them is float32 and the other one is float 64. Print out the difference of the (third items/1,000,000) in these two arrays. Should it be ZERO?? Why or whynot?"
   ]
  },
  {
   "cell_type": "code",
   "execution_count": null,
   "id": "ed3f8dee",
   "metadata": {},
   "outputs": [],
   "source": [
    "# Your code here\n"
   ]
  },
  {
   "cell_type": "markdown",
   "id": "1d565702",
   "metadata": {},
   "source": [
    "### 6) Reshape & aggregations (axis)"
   ]
  },
  {
   "cell_type": "code",
   "execution_count": null,
   "id": "b67d145d",
   "metadata": {},
   "outputs": [],
   "source": [
    "import numpy as np\n",
    "\n",
    "B = np.arange(12).reshape(3,4) # What does this line of code do? Can you fix the error?\n",
    "print('B=', B)\n",
    "print('sum over rows (axis=1):', B.sum(axis=1)) # What does this line of code do?\n",
    "print('mean over cols (axis=0):', B.mean(axis=0)) # What does this line of code does?\n"
   ]
  },
  {
   "cell_type": "markdown",
   "id": "cd617456",
   "metadata": {},
   "source": [
    "#### Exercise\n",
    "Make another array and reshape it. Sum over each row and each colum of this array."
   ]
  },
  {
   "cell_type": "code",
   "execution_count": null,
   "id": "f901cbb2",
   "metadata": {},
   "outputs": [],
   "source": [
    "# Your code here"
   ]
  },
  {
   "cell_type": "markdown",
   "id": "847e639c",
   "metadata": {},
   "source": [
    "### 7) Quick exercises to connect all the things we have learned so far"
   ]
  },
  {
   "cell_type": "markdown",
   "id": "fd6bdf97",
   "metadata": {},
   "source": [
    "#### Exercise\n",
    "Use NumPy array and matplotlib to plot y= x^3 - 2x. "
   ]
  },
  {
   "cell_type": "code",
   "execution_count": null,
   "id": "48cbb7a3",
   "metadata": {},
   "outputs": [],
   "source": [
    "# Your code here\n"
   ]
  },
  {
   "cell_type": "markdown",
   "id": "c17a63d6",
   "metadata": {},
   "source": [
    "#### Exercise\n",
    "The dimensions of your arrays are undeclared initially. Use loops or recrusions to plot the function y= x^3 - 2x. You should get the same plot as above.\n",
    "Hint: Start with a flowchart. You may use append. "
   ]
  },
  {
   "cell_type": "code",
   "execution_count": null,
   "id": "e56ce258",
   "metadata": {},
   "outputs": [],
   "source": [
    "# Your code here"
   ]
  }
 ],
 "metadata": {
  "kernelspec": {
   "display_name": "Python 3",
   "language": "python",
   "name": "python3"
  },
  "language_info": {
   "codemirror_mode": {
    "name": "ipython",
    "version": 3
   },
   "file_extension": ".py",
   "mimetype": "text/x-python",
   "name": "python",
   "nbconvert_exporter": "python",
   "pygments_lexer": "ipython3",
   "version": "3.13.5"
  }
 },
 "nbformat": 4,
 "nbformat_minor": 5
}
