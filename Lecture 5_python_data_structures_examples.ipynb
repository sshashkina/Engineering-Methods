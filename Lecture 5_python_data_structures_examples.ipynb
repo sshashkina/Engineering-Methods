{
 "cells": [
  {
   "cell_type": "markdown",
   "id": "7917e236",
   "metadata": {},
   "source": [
    "## Strings (`str`)\n",
    "Strings are immutable sequences of characters. They support indexing and slicing."
   ]
  },
  {
   "cell_type": "code",
   "execution_count": 28,
   "id": "224aed5b",
   "metadata": {},
   "outputs": [
    {
     "name": "stdout",
     "output_type": "stream",
     "text": [
      "First character: E\n",
      "Slice: ngin\n",
      "<class 'str'>\n",
      "The fourth letter is: e\n",
      "The letters between 0 and 6th spot: Under\n",
      "<class 'str'>\n",
      "13\n"
     ]
    },
    {
     "data": {
      "text/plain": [
       "5"
      ]
     },
     "execution_count": 28,
     "metadata": {},
     "output_type": "execute_result"
    }
   ],
   "source": [
    "# Note that I intentionally did not include any comments. You should add comments to explain the code.\n",
    "# Your assignment includes adding comments to all code cells.\n",
    "text = \"Engineering\" #converting the word engineering into a string \"\" the text is a variable\n",
    "print(\"First character:\", text[0]) # Each character is indexed, starting from 0. The 0 spot is E\n",
    "print(\"Slice:\", text[1:5]) #this will print from the 1st spot to the 5th spot, but will not print the fifth letter\n",
    "print(type(text)) #the kind of code it is, the type should be string\n",
    "len(text) #the length of the text defined earlier (11)\n",
    "\n",
    "# Your code here to print out different characters and slices of the string.\n",
    "text2= \"Understanding\"\n",
    "print(\"The fourth letter is:\", text[5])\n",
    "print(\"The letters between 0 and 6th spot:\", text2[0:5])\n",
    "print(type(text2))\n",
    "print(len(text2))\n",
    "len(text2[0:5])\n"
   ]
  },
  {
   "cell_type": "markdown",
   "id": "90aa7988",
   "metadata": {},
   "source": [
    "## Lists (`list`) [ ]\n",
    "Lists are ordered and mutable collections. They can contain mixed types and be nested."
   ]
  },
  {
   "cell_type": "code",
   "execution_count": null,
   "id": "a18b93ef",
   "metadata": {},
   "outputs": [
    {
     "name": "stdout",
     "output_type": "stream",
     "text": [
      "Second element: temp\n",
      "Nested list: [3.5, 4.2]\n",
      "Second element in the nested list: 4.2\n",
      "zero element: 1\n",
      "3.5\n"
     ]
    }
   ],
   "source": [
    "data = [1, \"temp\", [3.5, 4.2], \"fourth element\",[5]] # You should change the nested array to 5 elements.\n",
    "print(\"Second element:\", data[1]) #this will print temp\n",
    "print(\"Nested list:\", data[2]) # Do you need to change anything on this line? Why or why not?\n",
    "#this will print the entire bracket in the second place which is the 3.5 and 4.2 to specify add conditions\n",
    "print(\"Second element in the nested list:\", data[2][1]) # What do you expect to see? #expect to see 4.2\n",
    "print(\"zero element:\",data[0]) #checking if when i ask for the zero element i get 1, i was correct\n",
    "#the data also lists things with 0,1,2,3 etc\n",
    "print(data[2][0])\n"
   ]
  },
  {
   "cell_type": "markdown",
   "id": "62adc319",
   "metadata": {},
   "source": [
    "## Tuples (`tuple`) ( )\n",
    "Tuples are ordered and immutable collections."
   ]
  },
  {
   "cell_type": "code",
   "execution_count": null,
   "id": "b030da99",
   "metadata": {},
   "outputs": [
    {
     "name": "stdout",
     "output_type": "stream",
     "text": [
      "X coordinate: 3\n",
      "Y coordinate: 6\n",
      "x,y coordinate for the second step:( 4 , 9 )\n"
     ]
    }
   ],
   "source": [
    "point1 = (3, 4, 5)\n",
    "print(\"X coordinate:\", point1[0])\n",
    "# Your code here to print out different elements of the tuple.i.e, the Y or Z element.\n",
    "point2=(6,9,7) #defining the y coordinate as point2\n",
    "print(\"Y coordinate:\", point2[0]) #this will give us the first mentioned number in the point\n",
    "print(\"x,y coordinate for the second step:(\",point1[1],\",\", point2[1],\")\") #this will give us our format"
   ]
  },
  {
   "cell_type": "markdown",
   "id": "b12af27b",
   "metadata": {},
   "source": [
    "## Sets (`set`) { }\n",
    "Sets are unordered collections of unique elements."
   ]
  },
  {
   "cell_type": "code",
   "execution_count": 35,
   "id": "8f2119e7",
   "metadata": {},
   "outputs": [
    {
     "name": "stdout",
     "output_type": "stream",
     "text": [
      "Set contents: {'weight', 'length', 'emotion', 'vibes', 'temp', 'pressure'}\n",
      "Is 'temp' in sensors? True\n",
      "are the 'vibes' there? True\n",
      "are emotiona and vibes important to sensors? True\n"
     ]
    }
   ],
   "source": [
    "sensors = {\"temp\", \"pressure\", \"temp\", \"length\", \"weight\",\"vibes\",\"emotion\"} # Add more elements to the set.\n",
    "print(\"Set contents:\", sensors)\n",
    "print(\"Is 'temp' in sensors?\", \"temp\" in sensors)\n",
    "# Note that sets are unordered. You cannot access elements by index.\n",
    "# Your code here to add more elements and check membership of other elements.\n",
    "print(\"are the 'vibes' there?\", \"vibes\" in sensors) #a check that i added it correctly to the set\n",
    "print(\"are emotiona and vibes important to sensors?\", \"emotion\" and \"vibes\" in sensors)\n",
    "#checked if i can ask for two in a row or if they need their own calls (they just needed an \"and\")"
   ]
  },
  {
   "cell_type": "markdown",
   "id": "9321024e",
   "metadata": {},
   "source": [
    "## Dictionaries (`dict`) { \"key1\":, \"key2\": .....}\n",
    "Dictionaries store key-value pairs and allow fast lookup using keys."
   ]
  },
  {
   "cell_type": "code",
   "execution_count": 37,
   "id": "db99a421",
   "metadata": {},
   "outputs": [
    {
     "name": "stdout",
     "output_type": "stream",
     "text": [
      "Temperature: 22.5\n",
      "The set up of the sound board is: 5 20\n"
     ]
    }
   ],
   "source": [
    "sensor_data = {\"temp\": 22.5, \"pressure\": 101.3} # Add more key-value pairs to the dictionary.\n",
    "print(\"Temperature:\", sensor_data[\"temp\"]) #asking the data to tell the temperature\n",
    "# Your code here to print out different values using their keys and add new key-value pairs.\n",
    "some_more_data= {\"Sound level\":5,\"Color\":\"blue\",\"Dials\":20}\n",
    "print(\"The set up of the sound board is:\",some_more_data[\"Sound level\"],some_more_data[\"Dials\"])"
   ]
  },
  {
   "cell_type": "markdown",
   "id": "24d88685",
   "metadata": {},
   "source": [
    "### Example- 🛒 Grocery Bill Calculator\n",
    "\n",
    "Loop through a list of grocery items and their prices shown in the code. Calculate the total bill. Apply a 5% discount if the total exceeds $50. Print out the total bill and an indication on whether a discount is applied. \n",
    "\n",
    "Hint: You will need a for loop through this list and then a conditional statement to determine if a discount can be applied. "
   ]
  },
  {
   "cell_type": "code",
   "execution_count": 39,
   "id": "a11c0e21",
   "metadata": {},
   "outputs": [
    {
     "name": "stdout",
     "output_type": "stream",
     "text": [
      "Milk costs $4.50\n",
      "Discount applied: $0.50\n",
      "Bread costs $3.20\n",
      "Discount applied: $0.50\n",
      "Eggs costs $6.00\n",
      "Discount applied: $0.50\n",
      "Cheese costs $8.50\n",
      "Discount applied: $0.50\n",
      "Fruits costs $12.00\n",
      "Discount applied: $0.50\n",
      "Vegetables costs $10.00\n",
      "Discount applied: $0.50\n",
      "Snacks costs $9.00\n",
      "Discount applied: $0.50\n",
      "Beverages costs $7.50\n",
      "Discount applied: $0.50\n",
      "Total grocery bill is $60.70 for 8 items.\n"
     ]
    }
   ],
   "source": [
    "items = {'Milk': 4.5, 'Bread': 3.2, 'Eggs': 6.0, 'Cheese': 8.5, 'Fruits': 12.0, 'Vegetables': 10.0, 'Snacks': 9.0, 'Beverages': 7.5}\n",
    "# You can add/delete items if you want\n",
    "total = 0.0\n",
    "total_item = 0\n",
    "discount = 0.5\n",
    "\n",
    "# Iterate through items and sum prices\n",
    "for name, price in items.items():\n",
    "    total += price\n",
    "    total_item += 1\n",
    "    print(f\"{name} costs ${price:.2f}\")\n",
    "\n",
    "# Your code here\n",
    "    print(f\"Discount applied: ${discount:.2f}\")\n",
    "    \n",
    "print(f\"Total grocery bill is ${total:.2f} for {total_item} items.\")\n"
   ]
  },
  {
   "cell_type": "code",
   "execution_count": null,
   "id": "e0edd228",
   "metadata": {},
   "outputs": [
    {
     "name": "stdout",
     "output_type": "stream",
     "text": [
      "Fruit costs $8.54\n",
      "bread costs $3.50\n",
      "Milk costs $2.50\n",
      "Cheese costs $5.10\n",
      "Pasta costs $3.99\n",
      "Drink costs $8.99\n",
      "Cereal costs $4.67\n",
      "No Discount\n",
      "Total grocery bill is $37.29 for 7 items.\n"
     ]
    }
   ],
   "source": [
    "#Svitlana's code for the grocery bill problem\n",
    "products = {\"Fruit\": 8.54, \"bread\":3.50, \"Milk\": 2.50, \"Cheese\":5.10, \"Pasta\":3.99, \"Drink\":8.99, \"Cereal\":4.67 }#Dictionaries and keys\n",
    "final_price = 0.0 #variable that tracks total price\n",
    "items = 0 #amount of items purchased\n",
    "#discount will be applied through a number instead\n",
    "\n",
    "#grocery bill loop\n",
    "\n",
    "for name, price in products.items(): #condition\n",
    "    final_price = final_price + price #adds price of item to the total to calculate\n",
    "    items = items + 1 #tracks numeber of items counted\n",
    "\n",
    "    print(f\"{name} costs ${price:.2f}\") #prints the name and the price of number\n",
    "\n",
    "if(final_price >= 50): #condition that checks if discount can be applied\n",
    "    print(\"Discount Applied\") #prints words\n",
    "    final_price = final_price - (final_price * 0.5) #applies discount to anything applicable\n",
    "    print(\"Total: \", final_price,\" for \",items, \" items\") #prints more words\n",
    "else:\n",
    "    print(\"No Discount\") #result if all fails\n",
    "    print(f\"Total grocery bill is ${final_price:.2f} for {items} items.\") #prints result\n",
    "\n",
    "\n",
    "\n",
    "\n",
    "\n",
    "\n",
    "\n",
    "\n"
   ]
  },
  {
   "cell_type": "markdown",
   "id": "bf3bd7a9",
   "metadata": {},
   "source": [
    "## NumPy Arrays (`np.array( )`)\n",
    "NumPy arrays are efficient for numerical data and support vectorized operations. Here is a simple example. We will dicsuss how to use NumPy Arrays more in future lectures. "
   ]
  },
  {
   "cell_type": "code",
   "execution_count": null,
   "id": "3a5a99fa",
   "metadata": {},
   "outputs": [],
   "source": []
  },
  {
   "cell_type": "code",
   "execution_count": null,
   "id": "b806cd7d",
   "metadata": {},
   "outputs": [],
   "source": [
    "#I was unable to install numpy through anaconda as the resources page suggested, as this current notebook seems to be using jupyter as its main\n",
    "#translation language and I am unsure how to make sure that is still functioning and synced. i will come into office hours to set this up with."
   ]
  },
  {
   "cell_type": "code",
   "execution_count": 1,
   "id": "dd4d0bf9",
   "metadata": {},
   "outputs": [
    {
     "name": "stdout",
     "output_type": "stream",
     "text": [
      "Collecting numpy\n",
      "  Downloading numpy-2.3.4-cp313-cp313-win_amd64.whl.metadata (60 kB)\n",
      "Downloading numpy-2.3.4-cp313-cp313-win_amd64.whl (12.8 MB)\n",
      "   ---------------------------------------- 0.0/12.8 MB ? eta -:--:--\n",
      "   ------ --------------------------------- 2.1/12.8 MB 10.1 MB/s eta 0:00:02\n",
      "   ----------- ---------------------------- 3.7/12.8 MB 8.8 MB/s eta 0:00:02\n",
      "   ------------------ --------------------- 5.8/12.8 MB 9.1 MB/s eta 0:00:01\n",
      "   ------------------------ --------------- 7.9/12.8 MB 9.5 MB/s eta 0:00:01\n",
      "   ------------------------------ --------- 9.7/12.8 MB 9.3 MB/s eta 0:00:01\n",
      "   ------------------------------------ --- 11.8/12.8 MB 9.4 MB/s eta 0:00:01\n",
      "   ---------------------------------------- 12.8/12.8 MB 9.2 MB/s  0:00:01\n",
      "Installing collected packages: numpy\n",
      "Successfully installed numpy-2.3.4\n",
      "Note: you may need to restart the kernel to use updated packages.\n"
     ]
    },
    {
     "name": "stderr",
     "output_type": "stream",
     "text": [
      "  WARNING: The scripts f2py.exe and numpy-config.exe are installed in 'c:\\Users\\svitl\\AppData\\Local\\Programs\\Python\\Python313\\Scripts' which is not on PATH.\n",
      "  Consider adding this directory to PATH or, if you prefer to suppress this warning, use --no-warn-script-location.\n"
     ]
    }
   ],
   "source": [
    "pip install numpy"
   ]
  },
  {
   "cell_type": "code",
   "execution_count": 2,
   "id": "90bb6f13",
   "metadata": {},
   "outputs": [
    {
     "name": "stdout",
     "output_type": "stream",
     "text": [
      "Second element of arr1 multiplied by 2: 4\n",
      "Array 2:\n",
      "[[4 5]\n",
      " [7 8]]\n"
     ]
    }
   ],
   "source": [
    "import numpy as np\n",
    "arr1 = np.array([1, 2, 3])\n",
    "arr2 = np.array([[4, 5], \n",
    "                 [7, 8]])\n",
    "print(\"Second element of arr1 multiplied by 2:\", arr1[1]*2)\n",
    "print(\"Array 2:\")\n",
    "print(arr2)"
   ]
  },
  {
   "cell_type": "code",
   "execution_count": 3,
   "id": "def1de85",
   "metadata": {},
   "outputs": [
    {
     "ename": "ModuleNotFoundError",
     "evalue": "No module named 'np'",
     "output_type": "error",
     "traceback": [
      "\u001b[31m---------------------------------------------------------------------------\u001b[39m",
      "\u001b[31mModuleNotFoundError\u001b[39m                       Traceback (most recent call last)",
      "\u001b[36mCell\u001b[39m\u001b[36m \u001b[39m\u001b[32mIn[3]\u001b[39m\u001b[32m, line 2\u001b[39m\n\u001b[32m      1\u001b[39m \u001b[38;5;66;03m# Your code here to print out a 5 x 3 numpy array and the entire array multiplied by 2.\u001b[39;00m\n\u001b[32m----> \u001b[39m\u001b[32m2\u001b[39m \u001b[38;5;28;01mimport\u001b[39;00m\u001b[38;5;250m \u001b[39m\u001b[34;01mnp\u001b[39;00m\u001b[34;01m.\u001b[39;00m\u001b[34;01marray\u001b[39;00m\n\u001b[32m      3\u001b[39m arr1 = np.array([\u001b[32m1\u001b[39m, \u001b[32m2\u001b[39m, \u001b[32m3\u001b[39m])\n\u001b[32m      4\u001b[39m arr2 = np.array([[\u001b[32m4\u001b[39m, \u001b[32m5\u001b[39m], \n\u001b[32m      5\u001b[39m                  [\u001b[32m7\u001b[39m, \u001b[32m8\u001b[39m]])\n",
      "\u001b[31mModuleNotFoundError\u001b[39m: No module named 'np'"
     ]
    }
   ],
   "source": [
    "# Your code here to print out a 5 x 3 numpy array and the entire array multiplied by 2.\n",
    "import np.array\n",
    "arr1 = np.array([1, 2, 3])\n",
    "arr2 = np.array([[4, 5], \n",
    "                 [7, 8]])\n",
    "print(\"Second element of arr1 multiplied by 2:\", arr1[1]*2)\n",
    "print(\"Array 2:\")\n",
    "print(arr2)\n"
   ]
  },
  {
   "cell_type": "markdown",
   "id": "d82a0004",
   "metadata": {},
   "source": [
    "## Sorting\n",
    "Python lists can be sorted using the built-in `sorted()` function or the `.sort()` method."
   ]
  },
  {
   "cell_type": "code",
   "execution_count": 52,
   "id": "d98b3ef2",
   "metadata": {},
   "outputs": [
    {
     "name": "stdout",
     "output_type": "stream",
     "text": [
      "Original: [5, 2, 9, 1, 5, 6]\n",
      "Sorted:   [1, 2, 5, 5, 6, 9]\n",
      "Sorted:   [1, 2, 5, 5, 6, 9]\n"
     ]
    }
   ],
   "source": [
    "numbers = [5, 2, 9, 1, 5, 6]\n",
    "print(\"Original:\", numbers)\n",
    "\n",
    "numbers.sort()\n",
    "sorted_numbers = sorted(numbers) # uncomment this line if you want to use sorted() instead of sort()\n",
    "\n",
    "print(\"Sorted:  \", numbers)\n",
    "print(\"Sorted:  \", sorted_numbers) # when you uncomment sorted_numbers"
   ]
  },
  {
   "cell_type": "code",
   "execution_count": null,
   "id": "1b72b911",
   "metadata": {},
   "outputs": [
    {
     "name": "stdout",
     "output_type": "stream",
     "text": [
      "List of colors: [4, 8, 5, 6, 3, 9, 8]\n",
      "Sorted: [4, 8, 5, 6, 3, 9, 8]\n",
      "[3, 4, 5, 6, 8, 8, 9]\n"
     ]
    }
   ],
   "source": [
    "# Your code here\n",
    "# Make up a list (any type you want) and sort them. Print out the original and sorted lists.\n",
    "colors = [4,8,5,6,3,9,8] #variables to be sorted\n",
    "print(\"List of colors:\", colors) #writing out that we will sort the \"colors\"\n",
    "\n",
    "\n",
    "sorted_colors = sorted(colors) #using sorted function\n",
    "print(\"Sorted:\", colors) #prints after sorting nevermind\n",
    "print(sorted_colors) #actually sorts\n",
    "# You can only use sorted() function "
   ]
  },
  {
   "cell_type": "code",
   "execution_count": null,
   "id": "f2a94933",
   "metadata": {},
   "outputs": [
    {
     "name": "stdout",
     "output_type": "stream",
     "text": [
      "List of colors: [4, 8, 5, 6, 3, 9, 8]\n",
      "sorted: [3, 4, 5, 6, 8, 8, 9]\n"
     ]
    }
   ],
   "source": [
    "# Your code here\n",
    "# Make up a list (any type you want) and sort them. Print out the original and sorted lists.\n",
    "# You can only use .sort() method.\n",
    "colors = [4,8,5,6,3,9,8] #variables to be sorted\n",
    "print(\"List of colors:\", colors) #names the list\n",
    "\n",
    "colors.sort() #function\n",
    "print(\"sorted:\",colors) #using function\n"
   ]
  },
  {
   "cell_type": "markdown",
   "id": "9042bc08",
   "metadata": {},
   "source": [
    "### Sort a list of tuples usign a *lambda* function\n",
    "A `lambda` function in Python is an anonymous, single-expression function. It is defined using the `lambda` keyword and allows for the creation of small, inline functions without needing to use the def keyword or assign a name. `lambda` functions are particularly useful in situations where a small, one-off function is needed as an argument to a higher-order function (a function that takes other functions as arguments). We will discuss more in future lectures. "
   ]
  },
  {
   "cell_type": "code",
   "execution_count": 57,
   "id": "7add8fa6",
   "metadata": {},
   "outputs": [
    {
     "name": "stdout",
     "output_type": "stream",
     "text": [
      "Sorted by first element: [(1, 'apple'), (2, 'orange'), (3, 'banana')]\n"
     ]
    }
   ],
   "source": [
    "my_list = [(1, 'apple'), (2, 'orange'), (3, 'banana')] # List of tuples\n",
    "my_list.sort(key= lambda item: item[0]) # Sorts by the first element of each tuple\n",
    "print(\"Sorted by first element:\", my_list)\n",
    "# You should change the list an print out the sorted list based on different elements."
   ]
  },
  {
   "cell_type": "code",
   "execution_count": null,
   "id": "19fbc3ab",
   "metadata": {},
   "outputs": [
    {
     "name": "stdout",
     "output_type": "stream",
     "text": [
      "Sorted colors: [(1, 'red'), (2, 'orange'), (3, 'green'), (4, 'blue')]\n"
     ]
    }
   ],
   "source": [
    "# Your code here.  \n",
    "# Make up a list of tuples (anything you want) and sort them. \n",
    "# Print out the original and sorted lists.\n",
    "\n",
    "colors_list = [(2, \"orange\"),(1, \"red\"),(4, \"blue\"),(3, \"green\")] #list containing colors with values\n",
    "colors_list.sort(key= lambda item: item[0]) #using lambda to sort\n",
    "print(\"Sorted colors:\", colors_list) #prints results"
   ]
  },
  {
   "cell_type": "markdown",
   "id": "9eefd6b2",
   "metadata": {},
   "source": [
    "### Sorting Dictionaries by Values\n",
    "Need to use `sorted()` with a `lambda` function to sort *dictionary* items by value. Cannot use `.sort`"
   ]
  },
  {
   "cell_type": "code",
   "execution_count": null,
   "id": "1f561869",
   "metadata": {},
   "outputs": [
    {
     "name": "stdout",
     "output_type": "stream",
     "text": [
      "Sorted by value: [('Charlie', 78), ('Alice', 88), ('Bob', 95)]\n"
     ]
    }
   ],
   "source": [
    "grades = {'Alice': 88, 'Bob': 95, 'Charlie': 78} # dictionary items\n",
    "sorted_grades = sorted(grades.items(), key=lambda x: x[1]) #list containg sorted values\n",
    "print(\"Sorted by value:\", sorted_grades) #prints results"
   ]
  },
  {
   "cell_type": "code",
   "execution_count": null,
   "id": "403c40a4",
   "metadata": {},
   "outputs": [
    {
     "name": "stdout",
     "output_type": "stream",
     "text": [
      "Sorted list of colors with values: [('red', 50), ('green', 55), ('blue', 60), ('yellow', 70), ('orange', 80), ('purple', 100)]\n"
     ]
    }
   ],
   "source": [
    "# Your code here\n",
    "# Make up an array of dictionary items (any type you want) and sort them.\n",
    "# Print out the original and sorted lists.\n",
    "\n",
    "num_list = {\"purple\": 100,\"red\": 50,\"orange\": 80, \"green\": 55,\"yellow\": 70, \"blue\": 60} #Defining list of colors with values\n",
    "sorted_num_list = sorted(num_list.items(), key=lambda x: x[1]) #creating list that contains sorted list\n",
    "\n",
    "print(\"Sorted list of colors with values:\", sorted_num_list) #printing sorted list"
   ]
  },
  {
   "cell_type": "code",
   "execution_count": null,
   "id": "d8839085",
   "metadata": {},
   "outputs": [],
   "source": [
    "#stop here 10/11"
   ]
  },
  {
   "cell_type": "markdown",
   "id": "5b7acb47",
   "metadata": {},
   "source": [
    "## TXT Files\n"
   ]
  },
  {
   "cell_type": "markdown",
   "id": "94230905",
   "metadata": {},
   "source": [
    "### Write a TXT file\n",
    "\n",
    "The code below creates a text file called *test.txt* and write a couple lines in it. \n",
    "Check and see where this file is located on your desk!"
   ]
  },
  {
   "cell_type": "code",
   "execution_count": null,
   "id": "95ff4b69",
   "metadata": {},
   "outputs": [],
   "source": [
    "f = open('test.txt', 'w') # opened a file object *f* with the file name 'test.txt'; \"w+\" for the mode indicates write\n",
    "for i in range(5):\n",
    "    f.write(f\"This is line {i+1}\\n\") #write 5 lines. Note the newline '\\n' at the end of the string.\n",
    "    \n",
    "f.close() # It is good practice to close the file using f.close() in the end.\n",
    "\n",
    "# Check your local folder and see whether the file 'test.txt' is created and contains the 5 lines."
   ]
  },
  {
   "cell_type": "markdown",
   "id": "19e1350a",
   "metadata": {},
   "source": [
    "## Append to a TXT file\n",
    "We can also append some string to the *test.txt* file. It is very similar to how we write the file, with only one difference - change the mode to 'a' instead. "
   ]
  },
  {
   "cell_type": "code",
   "execution_count": null,
   "id": "672662ba",
   "metadata": {},
   "outputs": [],
   "source": [
    "f = open('test.txt', 'a')\n",
    "f.write(f\"This is another line\\n\") #append a line\n",
    "# Try to add more lines \n",
    "f.close()\n",
    "# Check your local folder and see whether the file 'test.txt' is updated with the new line.\n",
    "# Append more lines as needed."
   ]
  },
  {
   "cell_type": "markdown",
   "id": "7cb922ee",
   "metadata": {},
   "source": [
    "## Reading a TXT File\n",
    "Let's read in the *test.txt* file we created above and store all the contents in the file to a variable *content*."
   ]
  },
  {
   "cell_type": "code",
   "execution_count": null,
   "id": "b2e92949",
   "metadata": {},
   "outputs": [],
   "source": [
    "# Add comments to explain the code.\n",
    "f = open('./test.txt', 'r')\n",
    "content = f.read()\n",
    "f.close()\n",
    "print(content)"
   ]
  },
  {
   "cell_type": "code",
   "execution_count": null,
   "id": "894a31c2",
   "metadata": {},
   "outputs": [],
   "source": [
    "# Another way to read a file using 'with' statement\n",
    "with open('test.txt', 'r') as f: \n",
    "    content = f.read()\n",
    "f.close()\n",
    "print(content)"
   ]
  },
  {
   "cell_type": "code",
   "execution_count": null,
   "id": "60ab5cd3",
   "metadata": {},
   "outputs": [],
   "source": [
    "# Try to generate a new TXT file and write some data into it.\n",
    "# Your code here"
   ]
  },
  {
   "cell_type": "code",
   "execution_count": null,
   "id": "5a25bd6a",
   "metadata": {},
   "outputs": [],
   "source": [
    "# Try to read the TXT file you just created and print out the content.\n",
    "# Your code here"
   ]
  },
  {
   "cell_type": "markdown",
   "id": "9518a052",
   "metadata": {},
   "source": [
    "## Dealing with numbers and arrays\n",
    "\n",
    "Since we are working with numerical methods later, and many times, we work with the numbers or arrays. We could use the above methods to save the numbers or arrays to a file and read it back to the memory. But it is not so convenient this way. Instead, commonly we use the *numpy* package to directly save/read an array. For example, you can use np.savetxt & np.loadtxt as shown below. \n"
   ]
  },
  {
   "cell_type": "code",
   "execution_count": null,
   "id": "d0a73f29",
   "metadata": {},
   "outputs": [],
   "source": [
    "# Store an array to a file named *my_arr.txt* \n",
    "# and read it back to a variable called *my_arr*. \n",
    "import numpy as np\n",
    "arr = np.array([[1.25, 2.21, 3.05], \n",
    "                [4.13, 5.75, 6.92]]) # Use np.array to create the array.\n",
    "np.savetxt('my_arr.txt', arr, fmt='%.2f') #Save the array to a text file w/format and headers specified\n",
    "my_arr = np.loadtxt('my_arr.txt')\n",
    "print(my_arr)\n",
    "# See whether the file 'my_arr.txt' is created in your local folder."
   ]
  },
  {
   "cell_type": "code",
   "execution_count": null,
   "id": "14413768",
   "metadata": {},
   "outputs": [],
   "source": [
    "# Try to make a 3x3 matrix using np.array and save it to a file named *my_matrix.txt*.\n",
    "# Then read it back to a variable called *my_matrix* and print it out.\n"
   ]
  },
  {
   "cell_type": "markdown",
   "id": "a592a49d",
   "metadata": {},
   "source": [
    "## Write and open a CSV file\n",
    "CSV files store tabular data. Useful for lists, dictionaries, and arrays.\n",
    "A simple example of using the random number generator to generate 100 rows and 5 columns of data "
   ]
  },
  {
   "cell_type": "code",
   "execution_count": null,
   "id": "440b8797",
   "metadata": {},
   "outputs": [],
   "source": [
    "import numpy as np\n",
    "data = np.random.random((100,3))\n",
    "np.savetxt('test.csv', data, fmt = '%.2f', delimiter=',', header = 'c1, c2, c3')\n",
    "# See whether the file 'test.csv' is created in your local folder."
   ]
  },
  {
   "cell_type": "markdown",
   "id": "bcb52ad8",
   "metadata": {},
   "source": [
    "## Read a CSV File\n",
    "### Use *np.loadtxt* function\n",
    "We could read in the csv file using the *np.loadtxt* function. Let's read in the csv file we just saved to the disk to a variable *my_csv*, and output the first 5 rows. Note here we use the *delimiter* again to specify that the data in the file is separated by commas. "
   ]
  },
  {
   "cell_type": "code",
   "execution_count": null,
   "id": "68292f64",
   "metadata": {},
   "outputs": [],
   "source": [
    "my_csv = np.loadtxt('./test.csv', delimiter=',')\n",
    "my_csv[:10]"
   ]
  },
  {
   "cell_type": "markdown",
   "id": "f8da49c2",
   "metadata": {},
   "source": [
    "### Use *np.genfromtxt* to read the file and print out the data."
   ]
  },
  {
   "cell_type": "code",
   "execution_count": null,
   "id": "a97f1174",
   "metadata": {},
   "outputs": [],
   "source": [
    "# Download the example.csv file from Canvas and put it in your local folder.\n",
    "# Data include: Name (string), Age (int), City (string)\n",
    "import numpy as np\n",
    "data = np.genfromtxt('example.csv', delimiter=',', names=True, dtype=None, encoding='utf-8')\n",
    "# print(data) # Data contains names, ages and cities.\n",
    "ages = data['Age']\n",
    "print(\"Ages:\", ages)\n",
    "# Your code here to read the file and print out the data other than the \"Age\" column."
   ]
  },
  {
   "cell_type": "markdown",
   "id": "96114743",
   "metadata": {},
   "source": [
    "### Sort data in CSV file and write the sorted data in a new CVS file"
   ]
  },
  {
   "cell_type": "code",
   "execution_count": null,
   "id": "a8a26b55",
   "metadata": {},
   "outputs": [],
   "source": [
    "# Try to add more lines of data to example.csv by hand and sort the data based on age.\n",
    "\n",
    "# Sort data based on ages (descending)\n",
    "sorted_data = np.sort(data, order='Age')[::-1]\n",
    "print(sorted_data)\n",
    "\n",
    "# Header for the CSV file\n",
    "header = 'Name, Age, City'\n",
    "\n",
    "# Save the structured array to CSV.\n",
    "# Use one format specifier per field in the structured array: Name (string), Age (int), City (string).\n",
    "# Provide fmt as a list so the number of formats matches the number of columns.\n",
    "np.savetxt('sorted_examples.csv', sorted_data, fmt=['%s','%d','%s'], delimiter=',', header=header, comments='')"
   ]
  },
  {
   "cell_type": "code",
   "execution_count": null,
   "id": "9c6e42d5",
   "metadata": {},
   "outputs": [],
   "source": [
    "# Use the random data generation code to create a CSV file of 100 data, between 0 to 1000. \n",
    "# Sort them and write them to a new \"sorted\" CSV file.\n",
    "# You need to upload the original CSV file and the sorted CSV file. "
   ]
  }
 ],
 "metadata": {
  "kernelspec": {
   "display_name": "Python 3",
   "language": "python",
   "name": "python3"
  },
  "language_info": {
   "codemirror_mode": {
    "name": "ipython",
    "version": 3
   },
   "file_extension": ".py",
   "mimetype": "text/x-python",
   "name": "python",
   "nbconvert_exporter": "python",
   "pygments_lexer": "ipython3",
   "version": "3.13.7"
  }
 },
 "nbformat": 4,
 "nbformat_minor": 5
}
