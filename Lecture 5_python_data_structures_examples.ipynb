{
 "cells": [
  {
   "cell_type": "markdown",
   "id": "7917e236",
   "metadata": {},
   "source": [
    "## Strings (`str`)\n",
    "Strings are immutable sequences of characters. They support indexing and slicing."
   ]
  },
  {
   "cell_type": "code",
   "execution_count": null,
   "id": "224aed5b",
   "metadata": {},
   "outputs": [],
   "source": [
    "# Note that I intentionally did not include any comments. You should add comments to explain the code.\n",
    "# Your assignment includes adding comments to all code cells.\n",
    "text = \"Engineering\"\n",
    "print(\"First character:\", text[0]) # Each character is indexed, starting from 0.\n",
    "print(\"Slice:\", text[1:5])\n",
    "\n",
    "# Your code here to print out diffent characters and slices of the string."
   ]
  },
  {
   "cell_type": "markdown",
   "id": "90aa7988",
   "metadata": {},
   "source": [
    "## Lists (`list`) [ ]\n",
    "Lists are ordered and mutable collections. They can contain mixed types and be nested."
   ]
  },
  {
   "cell_type": "code",
   "execution_count": null,
   "id": "a18b93ef",
   "metadata": {},
   "outputs": [],
   "source": [
    "data = [1, \"temp\", [3.5, 4.2]] # You should change the nested array to 5 elements.\n",
    "print(\"Second element:\", data[1])\n",
    "print(\"Nested list:\", data[2]) # Do you need to change anything on this line? Why or why not?\n",
    "print(\"Second element in the nested list:\", data[2][1]) # What do you expect to see?"
   ]
  },
  {
   "cell_type": "markdown",
   "id": "62adc319",
   "metadata": {},
   "source": [
    "## Tuples (`tuple`) ( )\n",
    "Tuples are ordered and immutable collections."
   ]
  },
  {
   "cell_type": "code",
   "execution_count": null,
   "id": "b030da99",
   "metadata": {},
   "outputs": [],
   "source": [
    "point = (3, 4, 5)\n",
    "print(\"X coordinate:\", point[0])\n",
    "# Your code here to print out different elements of the tuple.i.e, the Y or Z element."
   ]
  },
  {
   "cell_type": "markdown",
   "id": "b12af27b",
   "metadata": {},
   "source": [
    "## Sets (`set`) { }\n",
    "Sets are unordered collections of unique elements."
   ]
  },
  {
   "cell_type": "code",
   "execution_count": null,
   "id": "8f2119e7",
   "metadata": {},
   "outputs": [],
   "source": [
    "sensors = {\"temp\", \"pressure\", \"temp\", \"length\", \"weight\"} # Add more elements to the set.\n",
    "print(\"Set contents:\", sensors)\n",
    "print(\"Is 'temp' in sensors?\", \"temp\" in sensors)\n",
    "# Note that sets are unordered. You cannot access elements by index.\n",
    "# Your code here to add more elements and check membership of other elements."
   ]
  },
  {
   "cell_type": "markdown",
   "id": "9321024e",
   "metadata": {},
   "source": [
    "## Dictionaries (`dict`) { \"key1\":, \"key2\": .....}\n",
    "Dictionaries store key-value pairs and allow fast lookup using keys."
   ]
  },
  {
   "cell_type": "code",
   "execution_count": null,
   "id": "db99a421",
   "metadata": {},
   "outputs": [],
   "source": [
    "sensor_data = {\"temp\": 22.5, \"pressure\": 101.3} # Add more key-value pairs to the dictionary.\n",
    "print(\"Temperature:\", sensor_data[\"temp\"])\n",
    "# Your code here to print out different values using their keys and add new key-value pairs."
   ]
  },
  {
   "cell_type": "markdown",
   "id": "24d88685",
   "metadata": {},
   "source": [
    "### Example- 🛒 Grocery Bill Calculator\n",
    "\n",
    "Loop through a list of grocery items and their prices shown in the code. Calculate the total bill. Apply a 5% discount if the total exceeds $50. Print out the total bill and an indication on whether a discount is applied. \n",
    "\n",
    "Hint: You will need a for loop through this list and then a conditional statement to determine if a discount can be applied. "
   ]
  },
  {
   "cell_type": "code",
   "execution_count": null,
   "id": "a11c0e21",
   "metadata": {},
   "outputs": [],
   "source": [
    "items = {'Milk': 4.5, 'Bread': 3.2, 'Eggs': 6.0, 'Cheese': 8.5, 'Fruits': 12.0, 'Vegetables': 10.0, 'Snacks': 9.0, 'Beverages': 7.5}\n",
    "# You can add/delete items if you want\n",
    "total = 0.0\n",
    "total_item = 0\n",
    "\n",
    "# Iterate through items and sum prices\n",
    "for name, price in items.items():\n",
    "    total += price\n",
    "    total_item += 1\n",
    "    print(f\"{name} costs ${price:.2f}\")\n",
    "\n",
    "# Your code here\n",
    "    print(f\"Discount applied: ${discount:.2f}\")\n",
    "    \n",
    "print(f\"Total grocery bill is ${total:.2f} for {total_item} items.\")\n"
   ]
  },
  {
   "cell_type": "markdown",
   "id": "bf3bd7a9",
   "metadata": {},
   "source": [
    "## NumPy Arrays (`np.array( )`)\n",
    "NumPy arrays are efficient for numerical data and support vectorized operations. Here is a simple example. We will dicsuss how to use NumPy Arrays more in future lectures. "
   ]
  },
  {
   "cell_type": "code",
   "execution_count": null,
   "id": "90bb6f13",
   "metadata": {},
   "outputs": [],
   "source": [
    "import numpy as np\n",
    "arr1 = np.array([1, 2, 3])\n",
    "arr2 = np.array([[4, 5], \n",
    "                 [7, 8]])\n",
    "print(\"Second element of arr1 multiplied by 2:\", arr1[1]*2)\n",
    "print(\"Array 2:\")\n",
    "print(arr2)"
   ]
  },
  {
   "cell_type": "code",
   "execution_count": null,
   "id": "def1de85",
   "metadata": {},
   "outputs": [],
   "source": [
    "# Your code here to print out a 5 x 3 numpy array and the entire array multiplied by 2.\n",
    "\n"
   ]
  },
  {
   "cell_type": "markdown",
   "id": "d82a0004",
   "metadata": {},
   "source": [
    "## Sorting\n",
    "Python lists can be sorted using the built-in `sorted()` function or the `.sort()` method."
   ]
  },
  {
   "cell_type": "code",
   "execution_count": null,
   "id": "d98b3ef2",
   "metadata": {},
   "outputs": [],
   "source": [
    "numbers = [5, 2, 9, 1, 5, 6]\n",
    "print(\"Original:\", numbers)\n",
    "\n",
    "numbers.sort()\n",
    "# sorted_numbers = sorted(numbers) # uncomment this line if you want to use sorted() instead of sort()\n",
    "\n",
    "print(\"Sorted:  \", numbers)\n",
    "# print(\"Sorted:  \", sorted_numbers) # when you uncomment sorted_numbers"
   ]
  },
  {
   "cell_type": "code",
   "execution_count": null,
   "id": "1b72b911",
   "metadata": {},
   "outputs": [],
   "source": [
    "# Your code here\n",
    "# Make up a list (any type you want) and sort them. Print out the original and sorted lists.\n",
    "# You can only use sorted() function "
   ]
  },
  {
   "cell_type": "code",
   "execution_count": null,
   "id": "f2a94933",
   "metadata": {},
   "outputs": [],
   "source": [
    "# Your code here\n",
    "# Make up a list (any type you want) and sort them. Print out the original and sorted lists.\n",
    "# You can only use .sort() method."
   ]
  },
  {
   "cell_type": "markdown",
   "id": "9042bc08",
   "metadata": {},
   "source": [
    "### Sort a list of tuples usign a *lambda* function\n",
    "A `lambda` function in Python is an anonymous, single-expression function. It is defined using the `lambda` keyword and allows for the creation of small, inline functions without needing to use the def keyword or assign a name. `lambda` functions are particularly useful in situations where a small, one-off function is needed as an argument to a higher-order function (a function that takes other functions as arguments). We will discuss more in future lectures. "
   ]
  },
  {
   "cell_type": "code",
   "execution_count": null,
   "id": "7add8fa6",
   "metadata": {},
   "outputs": [],
   "source": [
    "my_list = [(1, 'apple'), (2, 'orange'), (3, 'banana')] # List of tuples\n",
    "my_list.sort(key= lambda item: item[0]) # Sorts by the first element of each tuple\n",
    "print(\"Sorted by first element:\", my_list)\n",
    "# You should change the list an print out the sorted list based on different elements."
   ]
  },
  {
   "cell_type": "code",
   "execution_count": null,
   "id": "19fbc3ab",
   "metadata": {},
   "outputs": [],
   "source": [
    "# Your code here.  \n",
    "# Make up a list of tuples (anything you want) and sort them. \n",
    "# Print out the original and sorted lists."
   ]
  },
  {
   "cell_type": "markdown",
   "id": "9eefd6b2",
   "metadata": {},
   "source": [
    "### Sorting Dictionaries by Values\n",
    "Need to use `sorted()` with a `lambda` function to sort *dictionary* items by value. Cannot use `.sort`"
   ]
  },
  {
   "cell_type": "code",
   "execution_count": null,
   "id": "1f561869",
   "metadata": {},
   "outputs": [],
   "source": [
    "grades = {'Alice': 88, 'Bob': 95, 'Charlie': 78} # dictionary items\n",
    "sorted_grades = sorted(grades.items(), key=lambda x: x[1])\n",
    "print(\"Sorted by value:\", sorted_grades)"
   ]
  },
  {
   "cell_type": "code",
   "execution_count": null,
   "id": "403c40a4",
   "metadata": {},
   "outputs": [],
   "source": [
    "# Your code here\n",
    "# Make up an array of dictionary items (any type you want) and sort them.\n",
    "# Print out the original and sorted lists.\n"
   ]
  },
  {
   "cell_type": "markdown",
   "id": "5b7acb47",
   "metadata": {},
   "source": [
    "## TXT Files\n"
   ]
  },
  {
   "cell_type": "markdown",
   "id": "94230905",
   "metadata": {},
   "source": [
    "### Write a TXT file\n",
    "\n",
    "The code below creates a text file called *test.txt* and write a couple lines in it. \n",
    "Check and see where this file is located on your desk!"
   ]
  },
  {
   "cell_type": "code",
   "execution_count": null,
   "id": "95ff4b69",
   "metadata": {},
   "outputs": [],
   "source": [
    "f = open('test.txt', 'w') # opened a file object *f* with the file name 'test.txt'; \"w+\" for the mode indicates write\n",
    "for i in range(5):\n",
    "    f.write(f\"This is line {i+1}\\n\") #write 5 lines. Note the newline '\\n' at the end of the string.\n",
    "    \n",
    "f.close() # It is good practice to close the file using f.close() in the end.\n",
    "\n",
    "# Check your local folder and see whether the file 'test.txt' is created and contains the 5 lines."
   ]
  },
  {
   "cell_type": "markdown",
   "id": "19e1350a",
   "metadata": {},
   "source": [
    "## Append to a TXT file\n",
    "We can also append some string to the *test.txt* file. It is very similar to how we write the file, with only one difference - change the mode to 'a' instead. "
   ]
  },
  {
   "cell_type": "code",
   "execution_count": null,
   "id": "672662ba",
   "metadata": {},
   "outputs": [],
   "source": [
    "f = open('test.txt', 'a')\n",
    "f.write(f\"This is another line\\n\") #append a line\n",
    "# Try to add more lines \n",
    "f.close()\n",
    "# Check your local folder and see whether the file 'test.txt' is updated with the new line.\n",
    "# Append more lines as needed."
   ]
  },
  {
   "cell_type": "markdown",
   "id": "7cb922ee",
   "metadata": {},
   "source": [
    "## Reading a TXT File\n",
    "Let's read in the *test.txt* file we created above and store all the contents in the file to a variable *content*."
   ]
  },
  {
   "cell_type": "code",
   "execution_count": null,
   "id": "b2e92949",
   "metadata": {},
   "outputs": [],
   "source": [
    "# Add comments to explain the code.\n",
    "f = open('./test.txt', 'r')\n",
    "content = f.read()\n",
    "f.close()\n",
    "print(content)"
   ]
  },
  {
   "cell_type": "code",
   "execution_count": null,
   "id": "894a31c2",
   "metadata": {},
   "outputs": [],
   "source": [
    "# Another way to read a file using 'with' statement\n",
    "with open('test.txt', 'r') as f: \n",
    "    content = f.read()\n",
    "f.close()\n",
    "print(content)"
   ]
  },
  {
   "cell_type": "code",
   "execution_count": null,
   "id": "60ab5cd3",
   "metadata": {},
   "outputs": [],
   "source": [
    "# Try to generate a new TXT file and write some data into it.\n",
    "# Your code here"
   ]
  },
  {
   "cell_type": "code",
   "execution_count": null,
   "id": "5a25bd6a",
   "metadata": {},
   "outputs": [],
   "source": [
    "# Try to read the TXT file you just created and print out the content.\n",
    "# Your code here"
   ]
  },
  {
   "cell_type": "markdown",
   "id": "9518a052",
   "metadata": {},
   "source": [
    "## Dealing with numbers and arrays\n",
    "\n",
    "Since we are working with numerical methods later, and many times, we work with the numbers or arrays. We could use the above methods to save the numbers or arrays to a file and read it back to the memory. But it is not so convenient this way. Instead, commonly we use the *numpy* package to directly save/read an array. For example, you can use np.savetxt & np.loadtxt as shown below. \n"
   ]
  },
  {
   "cell_type": "code",
   "execution_count": null,
   "id": "d0a73f29",
   "metadata": {},
   "outputs": [],
   "source": [
    "# Store an array to a file named *my_arr.txt* \n",
    "# and read it back to a variable called *my_arr*. \n",
    "import numpy as np\n",
    "arr = np.array([[1.25, 2.21, 3.05], \n",
    "                [4.13, 5.75, 6.92]]) # Use np.array to create the array.\n",
    "np.savetxt('my_arr.txt', arr, fmt='%.2f') #Save the array to a text file w/format and headers specified\n",
    "my_arr = np.loadtxt('my_arr.txt')\n",
    "print(my_arr)\n",
    "# See whether the file 'my_arr.txt' is created in your local folder."
   ]
  },
  {
   "cell_type": "code",
   "execution_count": null,
   "id": "14413768",
   "metadata": {},
   "outputs": [],
   "source": [
    "# Try to make a 3x3 matrix using np.array and save it to a file named *my_matrix.txt*.\n",
    "# Then read it back to a variable called *my_matrix* and print it out.\n"
   ]
  },
  {
   "cell_type": "markdown",
   "id": "a592a49d",
   "metadata": {},
   "source": [
    "## Write and open a CSV file\n",
    "CSV files store tabular data. Useful for lists, dictionaries, and arrays.\n",
    "A simple example of using the random number generator to generate 100 rows and 5 columns of data "
   ]
  },
  {
   "cell_type": "code",
   "execution_count": null,
   "id": "440b8797",
   "metadata": {},
   "outputs": [],
   "source": [
    "import numpy as np\n",
    "data = np.random.random((100,3))\n",
    "np.savetxt('test.csv', data, fmt = '%.2f', delimiter=',', header = 'c1, c2, c3')\n",
    "# See whether the file 'test.csv' is created in your local folder."
   ]
  },
  {
   "cell_type": "markdown",
   "id": "bcb52ad8",
   "metadata": {},
   "source": [
    "## Read a CSV File\n",
    "### Use *np.loadtxt* function\n",
    "We could read in the csv file using the *np.loadtxt* function. Let's read in the csv file we just saved to the disk to a variable *my_csv*, and output the first 5 rows. Note here we use the *delimiter* again to specify that the data in the file is separated by commas. "
   ]
  },
  {
   "cell_type": "code",
   "execution_count": null,
   "id": "68292f64",
   "metadata": {},
   "outputs": [],
   "source": [
    "my_csv = np.loadtxt('./test.csv', delimiter=',')\n",
    "my_csv[:10]"
   ]
  },
  {
   "cell_type": "markdown",
   "id": "f8da49c2",
   "metadata": {},
   "source": [
    "### Use *np.genfromtxt* to read the file and print out the data."
   ]
  },
  {
   "cell_type": "code",
   "execution_count": null,
   "id": "a97f1174",
   "metadata": {},
   "outputs": [],
   "source": [
    "# Download the example.csv file from Canvas and put it in your local folder.\n",
    "# Data include: Name (string), Age (int), City (string)\n",
    "import numpy as np\n",
    "data = np.genfromtxt('example.csv', delimiter=',', names=True, dtype=None, encoding='utf-8')\n",
    "# print(data) # Data contains names, ages and cities.\n",
    "ages = data['Age']\n",
    "print(\"Ages:\", ages)\n",
    "# Your code here to read the file and print out the data other than the \"Age\" column."
   ]
  },
  {
   "cell_type": "markdown",
   "id": "96114743",
   "metadata": {},
   "source": [
    "### Sort data in CSV file and write the sorted data in a new CVS file"
   ]
  },
  {
   "cell_type": "code",
   "execution_count": null,
   "id": "a8a26b55",
   "metadata": {},
   "outputs": [],
   "source": [
    "# Try to add more lines of data to example.csv by hand and sort the data based on age.\n",
    "\n",
    "# Sort data based on ages (descending)\n",
    "sorted_data = np.sort(data, order='Age')[::-1]\n",
    "print(sorted_data)\n",
    "\n",
    "# Header for the CSV file\n",
    "header = 'Name, Age, City'\n",
    "\n",
    "# Save the structured array to CSV.\n",
    "# Use one format specifier per field in the structured array: Name (string), Age (int), City (string).\n",
    "# Provide fmt as a list so the number of formats matches the number of columns.\n",
    "np.savetxt('sorted_examples.csv', sorted_data, fmt=['%s','%d','%s'], delimiter=',', header=header, comments='')"
   ]
  },
  {
   "cell_type": "code",
   "execution_count": null,
   "id": "9c6e42d5",
   "metadata": {},
   "outputs": [],
   "source": [
    "# Use the random data generation code to create a CSV file of 100 data, between 0 to 1000. \n",
    "# Sort them and write them to a new \"sorted\" CSV file.\n",
    "# You need to upload the original CSV file and the sorted CSV file. "
   ]
  }
 ],
 "metadata": {
  "kernelspec": {
   "display_name": "Python 3",
   "language": "python",
   "name": "python3"
  },
  "language_info": {
   "codemirror_mode": {
    "name": "ipython",
    "version": 3
   },
   "file_extension": ".py",
   "mimetype": "text/x-python",
   "name": "python",
   "nbconvert_exporter": "python",
   "pygments_lexer": "ipython3",
   "version": "3.13.5"
  }
 },
 "nbformat": 4,
 "nbformat_minor": 5
}
