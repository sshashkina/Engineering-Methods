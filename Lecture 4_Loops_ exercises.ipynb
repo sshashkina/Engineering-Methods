{
 "cells": [
  {
   "cell_type": "markdown",
   "id": "bf181aa5",
   "metadata": {},
   "source": [
    "## Review on if statements "
   ]
  },
  {
   "cell_type": "markdown",
   "id": "48ee0ef5",
   "metadata": {},
   "source": [
    "## 🧊 Simulate a Thermostat\n",
    "Ask the user for the current temperature and print:\n",
    "- “It’s cold” if < 60°F\n",
    "- “It’s comfortable” if between 60°F and 75°F\n",
    "- “It’s hot” if > 75°F"
   ]
  },
  {
   "cell_type": "code",
   "execution_count": 7,
   "id": "51140bb1",
   "metadata": {},
   "outputs": [
    {
     "name": "stdout",
     "output_type": "stream",
     "text": [
      "It is comfortable!\n"
     ]
    }
   ],
   "source": [
    "temperature = input(\"Enter the current temperature in Fahrenheit: \")\n",
    "# Your code here\n",
    "temp = float(temperature) # turn str into float\n",
    "if temp < 60: \n",
    "    print(\"It is cold!\")\n",
    "elif temp < 75:\n",
    "    print(\"It is comfortable!\")\n",
    "else:\n",
    "    print(\"It is hot!\")"
   ]
  },
  {
   "cell_type": "code",
   "execution_count": 6,
   "id": "47d288f2",
   "metadata": {},
   "outputs": [
    {
     "name": "stdout",
     "output_type": "stream",
     "text": [
      "It is cold\n"
     ]
    }
   ],
   "source": [
    "#Svitlana's code\n",
    "\n",
    "def temperature(t):\n",
    "    if t<60:\n",
    "        print (\"It is cold\")\n",
    "    elif t>75:\n",
    "        print (\"It is hot\")\n",
    "    if 60<t<75:\n",
    "        print (\"It is perfect temperature\")\n",
    "temperature(35)"
   ]
  },
  {
   "cell_type": "markdown",
   "id": "c69bd652",
   "metadata": {},
   "source": [
    "## 🌊 Fluid Flow Calculation\n",
    "\n",
    "You are analyzing fluid flow in a pipe. The flow regime depends on the Reynolds number, which is calculated using:\n",
    "Re = (ρDv)/ μ.\n",
    "\n",
    "Where:\n",
    "Re = Reynolds number, a dimensionless number;\n",
    "ρ = density of the fluid;\n",
    "D = diameter of the passage way;\n",
    "v = velocity of the fluid;\n",
    "μ = viscosity of the fluid.\n",
    "\n",
    "Write a program that:\n",
    "- Asks for fluid properties and flow velocity.\n",
    "- Calculates Reynolds number.\n",
    "- Uses nested conditionals to classify the flow as:\n",
    "  - Laminar (Re < 2000)\n",
    "  - Transitional (2000 ≤ Re ≤ 4000)\n",
    "  - Turbulent (Re > 4000)\n"
   ]
  },
  {
   "cell_type": "code",
   "execution_count": null,
   "id": "bed535c4",
   "metadata": {},
   "outputs": [],
   "source": [
    "# Get Fluid Velocity and Pipe Diameter       \n",
    "v =  input (\"Enter flow velocity (m/s): \")            # Ask use to enter flow velocity (m/s)\n",
    "D =  input (\"Enter pipe diameter (m): \")              # Ask user to enter pipe diameter (m)\n",
    "# Constants\n",
    "rho = 997        # Water density ρ (kg/m^3)  \n",
    "mu = 0.00089     # Dynamic viscosity of Water μ (Pa·s)   \n",
    "\n",
    "# Convert inputs to float\n",
    "v = float(v)\n",
    "D = float(D) # if you don't convert, you will get an error when you try to do math with strings\n",
    "\n",
    "# Calculate Reynolds number\n",
    "# Your code here \n",
    "Re = (rho * v * D)/mu\n",
    "Re = round(Re, 2)\n",
    "\n",
    "# Print the result\n",
    "print(\"The Reynolds number is: \" + str(Re)) # Note that str() converts a number to a string for Re. \n",
    "\n",
    "# Your code here\n",
    "if Re < 2000:\n",
    "    print (\"It is laminar.\")\n",
    "elif Re > 4000:\n",
    "    print (\"It is turbulent\")\n",
    "else:\n",
    "    print(\"It is transitional.\")"
   ]
  },
  {
   "cell_type": "code",
   "execution_count": 18,
   "id": "65759cc7",
   "metadata": {},
   "outputs": [
    {
     "name": "stdout",
     "output_type": "stream",
     "text": [
      "The reynold's number is: \n",
      "Turbulent flow\n"
     ]
    }
   ],
   "source": [
    "#Svitlana's code\n",
    "D=input(\"Enter the diameter of the pipe in meters: \")\n",
    "V=input(\"Enter the velocity of the fluid meters/second: \")\n",
    "D=float(D)\n",
    "V=float(V)\n",
    "rho=997\n",
    "mu=0.00089\n",
    "Re=rho*D*V//mu\n",
    "print(\"The reynold's number is: \")\n",
    "type(Re)\n",
    "str(Re)\n",
    "if Re<2000:\n",
    "    print(\"Laminar flow\")\n",
    "elif (2000 <= Re <= 4000):\n",
    "    print(\"Transitional flow \")\n",
    "elif(Re > 4000):\n",
    "    print(\"Turbulent flow\")"
   ]
  },
  {
   "cell_type": "markdown",
   "id": "da140da0",
   "metadata": {},
   "source": [
    "## More on loops- Lecture 4 "
   ]
  },
  {
   "cell_type": "markdown",
   "id": "18bb680b",
   "metadata": {},
   "source": [
    "## 🔩 Bolt Counter\n",
    "\n",
    "A machine uses bolts in sets of 4 per assembly. Calculate how many bolts are needed for 10 assemblies. Print a message every time an assembly is completed.\n",
    "assemblies = 10\n",
    "bolts_per_assembly = 4\n"
   ]
  },
  {
   "cell_type": "code",
   "execution_count": 19,
   "id": "6839b8c5",
   "metadata": {},
   "outputs": [
    {
     "name": "stdout",
     "output_type": "stream",
     "text": [
      "Assembly 1 completed. Total bolts used: 4\n",
      "Assembly 2 completed. Total bolts used: 8\n",
      "Assembly 3 completed. Total bolts used: 12\n",
      "Assembly 4 completed. Total bolts used: 16\n",
      "Assembly 5 completed. Total bolts used: 20\n",
      "Assembly 6 completed. Total bolts used: 24\n",
      "Assembly 7 completed. Total bolts used: 28\n",
      "Assembly 8 completed. Total bolts used: 32\n",
      "Assembly 9 completed. Total bolts used: 36\n",
      "Assembly 10 completed. Total bolts used: 40\n",
      "Total bolts needed for 10 assemblies: 40\n"
     ]
    }
   ],
   "source": [
    "assemblies = 10\n",
    "bolts_per_assembly = 4\n",
    "total_bolts = 0\n",
    "\n",
    "# Loop through each assembly\n",
    "for i in range(1, assemblies + 1): # from 1 to 10 inclusive. Need +1 because range is exclusive of the end value.\n",
    "\n",
    "    # Your code here # adding bolts for current assembly to total\n",
    "    total_bolts += bolts_per_assembly # total_bolts = total_bolts + bolts_per_assembly\n",
    "    print(f\"Assembly {i} completed. Total bolts used: {total_bolts}\") # Using f-string to print\n",
    "\n",
    "print(f\"Total bolts needed for {assemblies} assemblies: {total_bolts}\") # Final output of total bolts needed"
   ]
  },
  {
   "cell_type": "code",
   "execution_count": 35,
   "id": "cc675be4",
   "metadata": {},
   "outputs": [
    {
     "name": "stdout",
     "output_type": "stream",
     "text": [
      "assembly {1} completed. Total bolts used: {4}\n",
      "assembly {2} completed. Total bolts used: {8}\n",
      "assembly {3} completed. Total bolts used: {12}\n",
      "assembly {4} completed. Total bolts used: {16}\n",
      "assembly {5} completed. Total bolts used: {20}\n",
      "assembly {6} completed. Total bolts used: {24}\n",
      "assembly {7} completed. Total bolts used: {28}\n",
      "assembly {8} completed. Total bolts used: {32}\n",
      "assembly {9} completed. Total bolts used: {36}\n",
      "assembly {10} completed. Total bolts used: {40}\n",
      "Total bolts needed for {10} assemblies: {40}\n"
     ]
    }
   ],
   "source": [
    "#Svitlana's code\n",
    "assemblies=10\n",
    "bolts_in_set=4\n",
    "total_bolts=0\n",
    "for i in range (1,assemblies + 1):\n",
    "    total_bolts = (total_bolts+bolts_in_set)\n",
    "    print(\"assembly\", {i} ,\"completed. Total bolts used:\",{total_bolts})\n",
    "print(\"Total bolts needed for\", {assemblies} ,\"assemblies:\", {total_bolts})\n"
   ]
  },
  {
   "cell_type": "markdown",
   "id": "c63188b6",
   "metadata": {},
   "source": [
    "## ❄️ Cooling Curve Generator\n",
    "\n",
    "Simulate the cooling of a metal block using Newton’s Law of Cooling: T(t) = T_env + (T0 - T_env) * e^(-kt)."
   ]
  },
  {
   "cell_type": "code",
   "execution_count": 21,
   "id": "45a0eac6",
   "metadata": {},
   "outputs": [
    {
     "name": "stdout",
     "output_type": "stream",
     "text": [
      "At 0 minute, temperature is 100.00 °C\n",
      "At 1 minute, temperature is 92.86 °C\n",
      "At 2 minute, temperature is 86.40 °C\n",
      "At 3 minute, temperature is 80.56 °C\n",
      "At 4 minute, temperature is 75.27 °C\n",
      "At 5 minute, temperature is 70.49 °C\n",
      "At 6 minute, temperature is 66.16 °C\n",
      "At 7 minute, temperature is 62.24 °C\n",
      "At 8 minute, temperature is 58.70 °C\n",
      "At 9 minute, temperature is 55.49 °C\n",
      "At 10 minute, temperature is 52.59 °C\n"
     ]
    }
   ],
   "source": [
    "import math\n",
    "\n",
    "T_env = 25  # ambient temperature in °C\n",
    "T0 = 100  # initial temperature in °C\n",
    "k = 0.1  # cooling constant\n",
    "time_steps = range(0, 11)  # time from 0 to 10 minutes\n",
    "\n",
    "# Loop through time steps\n",
    "for t in time_steps:\n",
    "    # Your code here\n",
    "    T_t = T_env + (T0 - T_env) * math.exp(- k * t)\n",
    "    print(f\"At {t} minute, temperature is {T_t:.2f} °C\")"
   ]
  },
  {
   "cell_type": "code",
   "execution_count": 44,
   "id": "5b1eaf9d",
   "metadata": {},
   "outputs": [
    {
     "name": "stdout",
     "output_type": "stream",
     "text": [
      "At [0] minute, temperature is: 100 degrees celsius\n",
      "At [1] minute, temperature is: 92 degrees celsius\n",
      "At [2] minute, temperature is: 86 degrees celsius\n",
      "At [3] minute, temperature is: 80 degrees celsius\n",
      "At [4] minute, temperature is: 75 degrees celsius\n",
      "At [5] minute, temperature is: 70 degrees celsius\n",
      "At [6] minute, temperature is: 66 degrees celsius\n",
      "At [7] minute, temperature is: 62 degrees celsius\n",
      "At [8] minute, temperature is: 58 degrees celsius\n",
      "At [9] minute, temperature is: 55 degrees celsius\n",
      "At [10] minute, temperature is: 52 degrees celsius\n"
     ]
    }
   ],
   "source": [
    "#svitlana's code\n",
    "import math\n",
    "T_env=25\n",
    "T0=100\n",
    "k=0.1\n",
    "time_steps=range(0,11)\n",
    "for t in time_steps:\n",
    "    T_t=T_env+(T0-T_env)*math.exp(-k*t)\n",
    "    print(\"At\",[t],\"minute, temperature is:\" ,int(T_t,),\"degrees celsius\")"
   ]
  },
  {
   "cell_type": "markdown",
   "id": "bd7d5878",
   "metadata": {},
   "source": [
    "## 🌊 Simple Harmonic Motion Tracker\n",
    "\n",
    "Simulate the position of a spring-mass system over time using x(t) = A * cos(ωt). ω is the angular frequency in rad/s, which equals to 2πf. f is the linear frequency in hertz (1/second). Print out the position at each time step. Make sure you can see a Cos function in your output."
   ]
  },
  {
   "cell_type": "code",
   "execution_count": 45,
   "id": "bbd2b889",
   "metadata": {},
   "outputs": [
    {
     "name": "stdout",
     "output_type": "stream",
     "text": [
      "At t= 0, x(t)=  1.0000\n",
      "At t= 1, x(t)=  0.9980\n",
      "At t= 2, x(t)=  0.9921\n",
      "At t= 3, x(t)=  0.9823\n",
      "At t= 4, x(t)=  0.9686\n",
      "At t= 5, x(t)=  0.9511\n",
      "At t= 6, x(t)=  0.9298\n",
      "At t= 7, x(t)=  0.9048\n",
      "At t= 8, x(t)=  0.8763\n",
      "At t= 9, x(t)=  0.8443\n",
      "At t= 10, x(t)=  0.8090\n",
      "At t= 11, x(t)=  0.7705\n",
      "At t= 12, x(t)=  0.7290\n",
      "At t= 13, x(t)=  0.6845\n",
      "At t= 14, x(t)=  0.6374\n",
      "At t= 15, x(t)=  0.5878\n",
      "At t= 16, x(t)=  0.5358\n",
      "At t= 17, x(t)=  0.4818\n",
      "At t= 18, x(t)=  0.4258\n",
      "At t= 19, x(t)=  0.3681\n",
      "At t= 20, x(t)=  0.3090\n",
      "At t= 21, x(t)=  0.2487\n",
      "At t= 22, x(t)=  0.1874\n",
      "At t= 23, x(t)=  0.1253\n",
      "At t= 24, x(t)=  0.0628\n",
      "At t= 25, x(t)= -0.0000\n",
      "At t= 26, x(t)= -0.0628\n",
      "At t= 27, x(t)= -0.1253\n",
      "At t= 28, x(t)= -0.1874\n",
      "At t= 29, x(t)= -0.2487\n",
      "At t= 30, x(t)= -0.3090\n",
      "At t= 31, x(t)= -0.3681\n",
      "At t= 32, x(t)= -0.4258\n",
      "At t= 33, x(t)= -0.4818\n",
      "At t= 34, x(t)= -0.5358\n",
      "At t= 35, x(t)= -0.5878\n",
      "At t= 36, x(t)= -0.6374\n",
      "At t= 37, x(t)= -0.6845\n",
      "At t= 38, x(t)= -0.7290\n",
      "At t= 39, x(t)= -0.7705\n",
      "At t= 40, x(t)= -0.8090\n",
      "At t= 41, x(t)= -0.8443\n",
      "At t= 42, x(t)= -0.8763\n",
      "At t= 43, x(t)= -0.9048\n",
      "At t= 44, x(t)= -0.9298\n",
      "At t= 45, x(t)= -0.9511\n",
      "At t= 46, x(t)= -0.9686\n",
      "At t= 47, x(t)= -0.9823\n",
      "At t= 48, x(t)= -0.9921\n",
      "At t= 49, x(t)= -0.9980\n",
      "At t= 50, x(t)= -1.0000\n",
      "At t= 51, x(t)= -0.9980\n",
      "At t= 52, x(t)= -0.9921\n",
      "At t= 53, x(t)= -0.9823\n",
      "At t= 54, x(t)= -0.9686\n",
      "At t= 55, x(t)= -0.9511\n",
      "At t= 56, x(t)= -0.9298\n",
      "At t= 57, x(t)= -0.9048\n",
      "At t= 58, x(t)= -0.8763\n",
      "At t= 59, x(t)= -0.8443\n",
      "At t= 60, x(t)= -0.8090\n",
      "At t= 61, x(t)= -0.7705\n",
      "At t= 62, x(t)= -0.7290\n",
      "At t= 63, x(t)= -0.6845\n",
      "At t= 64, x(t)= -0.6374\n",
      "At t= 65, x(t)= -0.5878\n",
      "At t= 66, x(t)= -0.5358\n",
      "At t= 67, x(t)= -0.4818\n",
      "At t= 68, x(t)= -0.4258\n",
      "At t= 69, x(t)= -0.3681\n",
      "At t= 70, x(t)= -0.3090\n",
      "At t= 71, x(t)= -0.2487\n",
      "At t= 72, x(t)= -0.1874\n",
      "At t= 73, x(t)= -0.1253\n",
      "At t= 74, x(t)= -0.0628\n",
      "At t= 75, x(t)= -0.0000\n",
      "At t= 76, x(t)=  0.0628\n",
      "At t= 77, x(t)=  0.1253\n",
      "At t= 78, x(t)=  0.1874\n",
      "At t= 79, x(t)=  0.2487\n",
      "At t= 80, x(t)=  0.3090\n",
      "At t= 81, x(t)=  0.3681\n",
      "At t= 82, x(t)=  0.4258\n",
      "At t= 83, x(t)=  0.4818\n",
      "At t= 84, x(t)=  0.5358\n",
      "At t= 85, x(t)=  0.5878\n",
      "At t= 86, x(t)=  0.6374\n",
      "At t= 87, x(t)=  0.6845\n",
      "At t= 88, x(t)=  0.7290\n",
      "At t= 89, x(t)=  0.7705\n",
      "At t= 90, x(t)=  0.8090\n",
      "At t= 91, x(t)=  0.8443\n",
      "At t= 92, x(t)=  0.8763\n",
      "At t= 93, x(t)=  0.9048\n",
      "At t= 94, x(t)=  0.9298\n",
      "At t= 95, x(t)=  0.9511\n",
      "At t= 96, x(t)=  0.9686\n",
      "At t= 97, x(t)=  0.9823\n",
      "At t= 98, x(t)=  0.9921\n",
      "At t= 99, x(t)=  0.9980\n"
     ]
    }
   ],
   "source": [
    "# The following code has errors. Please fix them.\n",
    "# I honestly am not sure where the error could be?\n",
    "import math\n",
    "\n",
    "A = 1  # amplitude in meters\n",
    "frequency = 0.01 # in Hz \n",
    "omega = 2 * math.pi * frequency  # angular frequency in rad/s\n",
    "time_steps = range(0, 100)  # time from 0 to xx seconds. You can change xx.\n",
    "\n",
    "# Loop through time steps\n",
    "for t in time_steps:\n",
    "    # Your code here\n",
    "    x = A * math.cos(omega * t)\n",
    "    print(f\"At t= {t}, x(t)= {x: .4f}\")\n"
   ]
  },
  {
   "cell_type": "code",
   "execution_count": 60,
   "id": "23b6e2b9",
   "metadata": {},
   "outputs": [
    {
     "name": "stdout",
     "output_type": "stream",
     "text": [
      "At t=0,x(t)=, 1.00\n",
      "At t=1,x(t)=, 1.00\n",
      "At t=2,x(t)=, 0.99\n",
      "At t=3,x(t)=, 0.98\n",
      "At t=4,x(t)=, 0.97\n",
      "At t=5,x(t)=, 0.95\n",
      "At t=6,x(t)=, 0.93\n",
      "At t=7,x(t)=, 0.90\n",
      "At t=8,x(t)=, 0.88\n",
      "At t=9,x(t)=, 0.84\n",
      "At t=10,x(t)=, 0.81\n",
      "At t=11,x(t)=, 0.77\n",
      "At t=12,x(t)=, 0.73\n",
      "At t=13,x(t)=, 0.68\n",
      "At t=14,x(t)=, 0.64\n",
      "At t=15,x(t)=, 0.59\n",
      "At t=16,x(t)=, 0.54\n",
      "At t=17,x(t)=, 0.48\n",
      "At t=18,x(t)=, 0.43\n",
      "At t=19,x(t)=, 0.37\n"
     ]
    }
   ],
   "source": [
    "# Svitlana's code\n",
    "import math\n",
    "Amp=1\n",
    "frequency=0.01\n",
    "omega=(2*math.pi*frequency)\n",
    "time_steps=range(0,20)\n",
    "for t in time_steps:\n",
    "    x=Amp*math.cos(omega*t)\n",
    "    print(f\"At t={t},x(t)=,{x: .2f}\")"
   ]
  },
  {
   "cell_type": "markdown",
   "id": "1f4170de",
   "metadata": {},
   "source": [
    "## 📚 Study Timer\n",
    "\n",
    "Loop through 5 study sessions of 25 minutes each. After each session, print the session number and \"Take a 5-minute break!\".\n",
    "\n",
    "Track total study time and break time and print them out at the end."
   ]
  },
  {
   "cell_type": "code",
   "execution_count": 23,
   "id": "8fde8ef8",
   "metadata": {},
   "outputs": [
    {
     "name": "stdout",
     "output_type": "stream",
     "text": [
      "Session 1 ends: Take a 5-minute break.\n",
      "Session 2 ends: Take a 5-minute break.\n",
      "Session 3 ends: Take a 5-minute break.\n",
      "Session 4 ends: Take a 5-minute break.\n",
      "Session 5 ends: Take a 5-minute break.\n",
      "Total study time: 125 minutes\n",
      "Total break time: 25 minutes\n"
     ]
    }
   ],
   "source": [
    "study_sessions = 5\n",
    "study_time = 0\n",
    "break_time = 0\n",
    "study_per_session = 25\n",
    "break_per_session = 5\n",
    "\n",
    "for session in range (1, study_sessions + 1):\n",
    "    study_time += study_per_session\n",
    "    break_time += break_per_session\n",
    "    print(f\"Session {session} ends: Take a 5-minute break.\")\n",
    "print(f\"Total study time: {study_time} minutes\")\n",
    "print(f\"Total break time: {break_time} minutes\")"
   ]
  },
  {
   "cell_type": "code",
   "execution_count": 63,
   "id": "c0de41af",
   "metadata": {},
   "outputs": [
    {
     "name": "stdout",
     "output_type": "stream",
     "text": [
      "Session 1 ends: Take a 5-minute break.\n",
      "Session 2 ends: Take a 5-minute break.\n",
      "Session 3 ends: Take a 5-minute break.\n",
      "Session 4 ends: Take a 5-minute break.\n",
      "Session 5 ends: Take a 5-minute break.\n",
      "Total study time:125 minutes\n",
      "Total break time: 25 minutes\n"
     ]
    }
   ],
   "source": [
    "#svitlanas\n",
    "study_sessions=5\n",
    "study_time=0\n",
    "break_time=0\n",
    "study_time_per_session=25\n",
    "breaks_per_session=5\n",
    "for session in range(1,6):\n",
    "    study_time+= study_time_per_session\n",
    "    break_time+=breaks_per_session\n",
    "    print(f\"Session {session} ends: Take a 5-minute break.\")\n",
    "print(f\"Total study time:{study_time} minutes\")\n",
    "print(f\"Total break time: {break_time} minutes\")"
   ]
  },
  {
   "cell_type": "markdown",
   "id": "a7f7b3fd",
   "metadata": {},
   "source": [
    "## 🏃 Step Counter\n",
    "\n",
    "Simulate a pedometer that logs steps every minute. Loop through 60 minutes and sum the total steps.\n",
    "Use random.randint(80, 120) to simulate steps per minute."
   ]
  },
  {
   "cell_type": "code",
   "execution_count": 24,
   "id": "96fcb3bd",
   "metadata": {},
   "outputs": [
    {
     "name": "stdout",
     "output_type": "stream",
     "text": [
      "Minute 1: 118 steps\n",
      "Minute 2: 82 steps\n",
      "Minute 3: 102 steps\n",
      "Minute 4: 112 steps\n",
      "Minute 5: 99 steps\n",
      "Minute 6: 111 steps\n",
      "Minute 7: 97 steps\n",
      "Minute 8: 108 steps\n",
      "Minute 9: 91 steps\n",
      "Minute 10: 94 steps\n",
      "Minute 11: 99 steps\n",
      "Minute 12: 112 steps\n",
      "Minute 13: 110 steps\n",
      "Minute 14: 117 steps\n",
      "Minute 15: 93 steps\n",
      "Minute 16: 103 steps\n",
      "Minute 17: 99 steps\n",
      "Minute 18: 84 steps\n",
      "Minute 19: 82 steps\n",
      "Minute 20: 117 steps\n",
      "Minute 21: 112 steps\n",
      "Minute 22: 95 steps\n",
      "Minute 23: 88 steps\n",
      "Minute 24: 85 steps\n",
      "Minute 25: 99 steps\n",
      "Minute 26: 98 steps\n",
      "Minute 27: 82 steps\n",
      "Minute 28: 107 steps\n",
      "Minute 29: 91 steps\n",
      "Minute 30: 118 steps\n",
      "Minute 31: 106 steps\n",
      "Minute 32: 88 steps\n",
      "Minute 33: 87 steps\n",
      "Minute 34: 85 steps\n",
      "Minute 35: 117 steps\n",
      "Minute 36: 104 steps\n",
      "Minute 37: 82 steps\n",
      "Minute 38: 103 steps\n",
      "Minute 39: 104 steps\n",
      "Minute 40: 94 steps\n",
      "Minute 41: 84 steps\n",
      "Minute 42: 108 steps\n",
      "Minute 43: 83 steps\n",
      "Minute 44: 93 steps\n",
      "Minute 45: 93 steps\n",
      "Minute 46: 88 steps\n",
      "Minute 47: 103 steps\n",
      "Minute 48: 83 steps\n",
      "Minute 49: 85 steps\n",
      "Minute 50: 100 steps\n",
      "Minute 51: 97 steps\n",
      "Minute 52: 81 steps\n",
      "Minute 53: 86 steps\n",
      "Minute 54: 104 steps\n",
      "Minute 55: 109 steps\n",
      "Minute 56: 115 steps\n",
      "Minute 57: 95 steps\n",
      "Minute 58: 108 steps\n",
      "Minute 59: 113 steps\n",
      "Minute 60: 112 steps\n",
      "Total steps in 1 hour: 5915\n"
     ]
    }
   ],
   "source": [
    "import random\n",
    "total_steps = 0\n",
    "minute = 0\n",
    "# Loop for each minute in an hour\n",
    "for minute in range (60): \n",
    "    minute = minute + 1\n",
    "    steps = random.randint(80,120) # Your code here to increase the total steps by a random number between 80 and 120. \n",
    "    total_steps = total_steps + steps \n",
    "    print(f\"Minute {minute}: {steps} steps\")\n",
    "\n",
    "print(f\"Total steps in 1 hour: {total_steps}\")"
   ]
  },
  {
   "cell_type": "markdown",
   "id": "1c31ade7",
   "metadata": {},
   "source": [
    "## 🔁 Material Fatigue Counter\n",
    "\n",
    "Count how many cycles a material can endure before failure. Reduce strength slightly each cycle (you decide the deduction) and stop when it drops below a threshold."
   ]
  },
  {
   "cell_type": "code",
   "execution_count": 25,
   "id": "40731dc7",
   "metadata": {},
   "outputs": [
    {
     "name": "stdout",
     "output_type": "stream",
     "text": [
      "Cycle 1- Current strength is 950.00\n",
      "Cycle 2- Current strength is 900.00\n",
      "Cycle 3- Current strength is 850.00\n",
      "Cycle 4- Current strength is 800.00\n",
      "Cycle 5- Current strength is 750.00\n",
      "Cycle 6- Current strength is 700.00\n",
      "Material failed after 6 cycles.\n"
     ]
    }
   ],
   "source": [
    "initial_strength = 1000  # arbitrary units\n",
    "threshold = 700\n",
    "strength = initial_strength\n",
    "cycle = 0\n",
    "\n",
    "# Your code here\n",
    "while strength > threshold:\n",
    "    deduction = initial_strength * 0.05\n",
    "    strength = strength - deduction\n",
    "    cycle = cycle + 1\n",
    "    print(f\"Cycle {cycle}- Current strength is {strength:.2f}\")\n",
    "\n",
    "print(f\"Material failed after {cycle} cycles.\")"
   ]
  },
  {
   "cell_type": "markdown",
   "id": "a7def41f",
   "metadata": {},
   "source": [
    "## 📱 Battery Drain Simulator\n",
    "\n",
    "Simulate a phone battery draining 5% every hour. Use a loop to show battery level over time until it reaches 0%.\n",
    "Print a warning when battery drops below 20% and a final message if the battery is drained. \n",
    "\n",
    "Hint: You may use a conditional statement nested in a while loop."
   ]
  },
  {
   "cell_type": "code",
   "execution_count": 26,
   "id": "7f61b43c",
   "metadata": {},
   "outputs": [
    {
     "name": "stdout",
     "output_type": "stream",
     "text": [
      "Hour 1- Current battery level is 95.\n",
      "Hour 2- Current battery level is 90.\n",
      "Hour 3- Current battery level is 85.\n",
      "Hour 4- Current battery level is 80.\n",
      "Hour 5- Current battery level is 75.\n",
      "Hour 6- Current battery level is 70.\n",
      "Hour 7- Current battery level is 65.\n",
      "Hour 8- Current battery level is 60.\n",
      "Hour 9- Current battery level is 55.\n",
      "Hour 10- Current battery level is 50.\n",
      "Hour 11- Current battery level is 45.\n",
      "Hour 12- Current battery level is 40.\n",
      "Hour 13- Current battery level is 35.\n",
      "Hour 14- Current battery level is 30.\n",
      "Hour 15- Current battery level is 25.\n",
      "Hour 16- Current battery level is 20.\n",
      "Warning: Battery low!\n",
      "Hour 17- Current battery level is 15.\n",
      "Hour 18- Current battery level is 10.\n",
      "Hour 19- Current battery level is 5.\n",
      "Hour 20- Current battery level is 0.\n",
      "Battery drained.\n"
     ]
    }
   ],
   "source": [
    "battery = 100\n",
    "hour = 0\n",
    "drain = 5\n",
    "\n",
    "# Your code here\n",
    "while battery > 0:\n",
    "    hour = hour + 1\n",
    "    battery = battery - drain\n",
    "    print(f\"Hour {hour}- Current battery level is {battery}.\")\n",
    "    if battery == 20:\n",
    "        print(\"Warning: Battery low!\")\n",
    "print(\"Battery drained.\")"
   ]
  }
 ],
 "metadata": {
  "kernelspec": {
   "display_name": "Python 3",
   "language": "python",
   "name": "python3"
  },
  "language_info": {
   "codemirror_mode": {
    "name": "ipython",
    "version": 3
   },
   "file_extension": ".py",
   "mimetype": "text/x-python",
   "name": "python",
   "nbconvert_exporter": "python",
   "pygments_lexer": "ipython3",
   "version": "3.13.7"
  }
 },
 "nbformat": 4,
 "nbformat_minor": 5
}
